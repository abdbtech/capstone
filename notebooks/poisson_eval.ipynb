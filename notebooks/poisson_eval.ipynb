{
 "cells": [
  {
   "cell_type": "code",
   "execution_count": 14,
   "id": "f51ded33",
   "metadata": {},
   "outputs": [],
   "source": [
    "# import libraries\n",
    "import pandas as pd\n",
    "from scipy.stats import poisson, weibull_min, gamma\n",
    "import numpy as np\n",
    "import matplotlib.pyplot as plt\n",
    "import seaborn as sns\n",
    "import sys\n",
    "import os\n",
    "import tqdm\n",
    "from sklearn.cluster import KMeans\n",
    "from sklearn.preprocessing import StandardScaler\n",
    "from geopy.distance import geodesic\n",
    "sys.path.append(os.path.dirname(os.getcwd()))\n",
    "import db_tools as dbt\n",
    "import math\n",
    "import pandas as pd\n",
    "import matplotlib.pyplot as plt\n",
    "import numpy as np\n",
    "import seaborn as sns\n",
    "from scipy.stats import poisson, chisquare\n",
    "import weibull\n",
    "from scipy import optimize\n",
    "import csv"
   ]
  },
  {
   "cell_type": "code",
   "execution_count": 2,
   "id": "3f7984a4",
   "metadata": {},
   "outputs": [
    {
     "name": "stdout",
     "output_type": "stream",
     "text": [
      "Created SQLAlchemy engine for disaster_db\n",
      "Query executed successfully, returned 107094 rows\n"
     ]
    }
   ],
   "source": [
    "# Load the NOAA data into a DataFrame for analysis\n",
    "df_noaa = dbt.query('SELECT * FROM \"NOAA_STORM_EPISODES\" ORDER BY county_fips, year')\n"
   ]
  },
  {
   "cell_type": "code",
   "execution_count": 16,
   "id": "12527634",
   "metadata": {},
   "outputs": [],
   "source": [
    "df_noaa.to_csv(r'C:\\noaa_storm_episodes.csv', index=False)"
   ]
  },
  {
   "cell_type": "code",
   "execution_count": 11,
   "id": "a8dc43e6",
   "metadata": {},
   "outputs": [
    {
     "data": {
      "application/vnd.microsoft.datawrangler.viewer.v0+json": {
       "columns": [
        {
         "name": "index",
         "rawType": "int64",
         "type": "integer"
        },
        {
         "name": "county_fips",
         "rawType": "object",
         "type": "string"
        },
        {
         "name": "year",
         "rawType": "int64",
         "type": "integer"
        },
        {
         "name": "event_count",
         "rawType": "int64",
         "type": "integer"
        },
        {
         "name": "total_deaths_direct",
         "rawType": "int64",
         "type": "integer"
        },
        {
         "name": "total_deaths_indirect",
         "rawType": "int64",
         "type": "integer"
        },
        {
         "name": "total_injuries_direct",
         "rawType": "int64",
         "type": "integer"
        },
        {
         "name": "total_injuries_indirect",
         "rawType": "int64",
         "type": "integer"
        },
        {
         "name": "event_types",
         "rawType": "object",
         "type": "string"
        },
        {
         "name": "first_event_date",
         "rawType": "datetime64[ns]",
         "type": "datetime"
        }
       ],
       "ref": "555a952c-a3e7-431d-a5ab-17585c1e21ea",
       "rows": [
        [
         "0",
         "01001",
         "1999",
         "1",
         "0",
         "0",
         "2",
         "0",
         "Thunderstorm Wind",
         "1999-03-03 00:00:00"
        ],
        [
         "1",
         "01001",
         "2000",
         "2",
         "0",
         "0",
         "2",
         "0",
         "Lightning",
         "2000-04-02 00:00:00"
        ],
        [
         "2",
         "01001",
         "2001",
         "0",
         "0",
         "0",
         "0",
         "0",
         "",
         null
        ],
        [
         "3",
         "01001",
         "2002",
         "0",
         "0",
         "0",
         "0",
         "0",
         "",
         null
        ],
        [
         "4",
         "01001",
         "2003",
         "1",
         "0",
         "0",
         "3",
         "0",
         "Thunderstorm Wind",
         "2003-04-25 00:00:00"
        ]
       ],
       "shape": {
        "columns": 9,
        "rows": 5
       }
      },
      "text/html": [
       "<div>\n",
       "<style scoped>\n",
       "    .dataframe tbody tr th:only-of-type {\n",
       "        vertical-align: middle;\n",
       "    }\n",
       "\n",
       "    .dataframe tbody tr th {\n",
       "        vertical-align: top;\n",
       "    }\n",
       "\n",
       "    .dataframe thead th {\n",
       "        text-align: right;\n",
       "    }\n",
       "</style>\n",
       "<table border=\"1\" class=\"dataframe\">\n",
       "  <thead>\n",
       "    <tr style=\"text-align: right;\">\n",
       "      <th></th>\n",
       "      <th>county_fips</th>\n",
       "      <th>year</th>\n",
       "      <th>event_count</th>\n",
       "      <th>total_deaths_direct</th>\n",
       "      <th>total_deaths_indirect</th>\n",
       "      <th>total_injuries_direct</th>\n",
       "      <th>total_injuries_indirect</th>\n",
       "      <th>event_types</th>\n",
       "      <th>first_event_date</th>\n",
       "    </tr>\n",
       "  </thead>\n",
       "  <tbody>\n",
       "    <tr>\n",
       "      <th>0</th>\n",
       "      <td>01001</td>\n",
       "      <td>1999</td>\n",
       "      <td>1</td>\n",
       "      <td>0</td>\n",
       "      <td>0</td>\n",
       "      <td>2</td>\n",
       "      <td>0</td>\n",
       "      <td>Thunderstorm Wind</td>\n",
       "      <td>1999-03-03</td>\n",
       "    </tr>\n",
       "    <tr>\n",
       "      <th>1</th>\n",
       "      <td>01001</td>\n",
       "      <td>2000</td>\n",
       "      <td>2</td>\n",
       "      <td>0</td>\n",
       "      <td>0</td>\n",
       "      <td>2</td>\n",
       "      <td>0</td>\n",
       "      <td>Lightning</td>\n",
       "      <td>2000-04-02</td>\n",
       "    </tr>\n",
       "    <tr>\n",
       "      <th>2</th>\n",
       "      <td>01001</td>\n",
       "      <td>2001</td>\n",
       "      <td>0</td>\n",
       "      <td>0</td>\n",
       "      <td>0</td>\n",
       "      <td>0</td>\n",
       "      <td>0</td>\n",
       "      <td></td>\n",
       "      <td>NaT</td>\n",
       "    </tr>\n",
       "    <tr>\n",
       "      <th>3</th>\n",
       "      <td>01001</td>\n",
       "      <td>2002</td>\n",
       "      <td>0</td>\n",
       "      <td>0</td>\n",
       "      <td>0</td>\n",
       "      <td>0</td>\n",
       "      <td>0</td>\n",
       "      <td></td>\n",
       "      <td>NaT</td>\n",
       "    </tr>\n",
       "    <tr>\n",
       "      <th>4</th>\n",
       "      <td>01001</td>\n",
       "      <td>2003</td>\n",
       "      <td>1</td>\n",
       "      <td>0</td>\n",
       "      <td>0</td>\n",
       "      <td>3</td>\n",
       "      <td>0</td>\n",
       "      <td>Thunderstorm Wind</td>\n",
       "      <td>2003-04-25</td>\n",
       "    </tr>\n",
       "  </tbody>\n",
       "</table>\n",
       "</div>"
      ],
      "text/plain": [
       "  county_fips  year  event_count  total_deaths_direct  total_deaths_indirect  \\\n",
       "0       01001  1999            1                    0                      0   \n",
       "1       01001  2000            2                    0                      0   \n",
       "2       01001  2001            0                    0                      0   \n",
       "3       01001  2002            0                    0                      0   \n",
       "4       01001  2003            1                    0                      0   \n",
       "\n",
       "   total_injuries_direct  total_injuries_indirect        event_types  \\\n",
       "0                      2                        0  Thunderstorm Wind   \n",
       "1                      2                        0          Lightning   \n",
       "2                      0                        0                      \n",
       "3                      0                        0                      \n",
       "4                      3                        0  Thunderstorm Wind   \n",
       "\n",
       "  first_event_date  \n",
       "0       1999-03-03  \n",
       "1       2000-04-02  \n",
       "2              NaT  \n",
       "3              NaT  \n",
       "4       2003-04-25  "
      ]
     },
     "execution_count": 11,
     "metadata": {},
     "output_type": "execute_result"
    }
   ],
   "source": [
    "df_noaa.head()\n"
   ]
  },
  {
   "cell_type": "code",
   "execution_count": null,
   "id": "50f2154e",
   "metadata": {},
   "outputs": [],
   "source": []
  },
  {
   "cell_type": "code",
   "execution_count": 13,
   "id": "9f283d78",
   "metadata": {},
   "outputs": [
    {
     "name": "stdout",
     "output_type": "stream",
     "text": [
      "90845\n"
     ]
    }
   ],
   "source": [
    "print((df_noaa['event_count'] == 0).sum())"
   ]
  },
  {
   "cell_type": "code",
   "execution_count": 4,
   "id": "ccae5675",
   "metadata": {},
   "outputs": [
    {
     "data": {
      "image/png": "[encoded data removed]",
      "text/plain": [
       "<Figure size 1200x800 with 1 Axes>"
      ]
     },
     "metadata": {},
     "output_type": "display_data"
    }
   ],
   "source": [
    "# Create histogram of raw event counts with log scale for distribution analysis\n",
    "plt.figure(figsize=(12, 8))\n",
    "plt.hist(\n",
    "    df_noaa[\"event_count\"], bins=50, alpha=0.7, edgecolor=\"black\", color=\"lightcoral\"\n",
    ")\n",
    "plt.xlabel(\"Annual Disaster Episodes per County-Year\", fontsize=12)\n",
    "plt.ylabel(\"Number of County-Year Records (Log Scale)\", fontsize=12)\n",
    "plt.title(\n",
    "    \"Distribution of Raw Annual Disaster Episode Counts - NOAA Data\",\n",
    "    fontsize=14,\n",
    "    fontweight=\"bold\",\n",
    ")\n",
    "plt.yscale(\"log\")\n",
    "\n",
    "# Add percentiles to help interpretation with log scale\n",
    "raw_counts = df_noaa[\"event_count\"]\n",
    "p25_raw = raw_counts.quantile(0.25)\n",
    "p75_raw = raw_counts.quantile(0.75)\n",
    "p95_raw = raw_counts.quantile(0.95)\n",
    "\n",
    "plt.axvline(\n",
    "    p25_raw, color=\"blue\", linestyle=\":\", label=f\"25th percentile: {p25_raw:.0f}\"\n",
    ")\n",
    "plt.axvline(\n",
    "    p75_raw, color=\"orange\", linestyle=\":\", label=f\"75th percentile: {p75_raw:.0f}\"\n",
    ")\n",
    "plt.axvline(\n",
    "    p95_raw, color=\"red\", linestyle=\":\", label=f\"95th percentile: {p95_raw:.0f}\"\n",
    ")\n",
    "\n",
    "plt.legend()\n",
    "plt.grid(alpha=0.3)\n",
    "plt.tight_layout()\n",
    "plt.show()\n"
   ]
  },
  {
   "cell_type": "code",
   "execution_count": 5,
   "id": "e4f9fac3",
   "metadata": {},
   "outputs": [
    {
     "data": {
      "application/vnd.microsoft.datawrangler.viewer.v0+json": {
       "columns": [
        {
         "name": "index",
         "rawType": "object",
         "type": "string"
        },
        {
         "name": "0",
         "rawType": "float64",
         "type": "float"
        }
       ],
       "ref": "f99957e3-60b6-4683-827c-0aaa8be9b840",
       "rows": [
        [
         "lambda_poisson",
         "0.2069"
        ],
        [
         "lambda_zip",
         "0.6563"
        ],
        [
         "p_zero_zip",
         "0.6847"
        ],
        [
         "obs_zero_rate",
         "0.8483"
        ],
        [
         "zip_zero_rate",
         "0.8483"
        ],
        [
         "poi_zero_rate",
         "0.8131"
        ],
        [
         "zip_chi2",
         "46054794.5673"
        ],
        [
         "zip_p",
         "0.0"
        ],
        [
         "poi_chi2",
         "990841521960.3116"
        ],
        [
         "poi_p",
         "0.0"
        ]
       ],
       "shape": {
        "columns": 1,
        "rows": 10
       }
      },
      "text/plain": [
       "lambda_poisson    2.069000e-01\n",
       "lambda_zip        6.563000e-01\n",
       "p_zero_zip        6.847000e-01\n",
       "obs_zero_rate     8.483000e-01\n",
       "zip_zero_rate     8.483000e-01\n",
       "poi_zero_rate     8.131000e-01\n",
       "zip_chi2          4.605479e+07\n",
       "zip_p             0.000000e+00\n",
       "poi_chi2          9.908415e+11\n",
       "poi_p             0.000000e+00\n",
       "dtype: float64"
      ]
     },
     "execution_count": 5,
     "metadata": {},
     "output_type": "execute_result"
    }
   ],
   "source": [
    "\n",
    "\n",
    "counts = df_noaa[\"event_count\"].to_numpy()\n",
    "mean_c = counts.mean()\n",
    "zero_c = (counts == 0).mean()\n",
    "p_zip = (\n",
    "    0\n",
    "    if zero_c <= np.exp(-mean_c)\n",
    "    else optimize.brentq(\n",
    "        lambda p: p + (1 - p) * np.exp(-mean_c / (1 - p)) - zero_c, 1e-6, 0.999\n",
    "    )\n",
    ")\n",
    "lam_zip = mean_c / (1 - p_zip)\n",
    "support = np.arange(0, counts.max() + 1)\n",
    "zip_probs = np.concatenate(\n",
    "    (\n",
    "        [p_zip + (1 - p_zip) * np.exp(-lam_zip)],\n",
    "        (1 - p_zip) * poisson.pmf(support[1:], lam_zip),\n",
    "    )\n",
    ")\n",
    "poi_probs = poisson.pmf(support, mean_c)\n",
    "max_bin = min(len(support) - 1, 10)\n",
    "obs = np.bincount(np.minimum(counts, max_bin), minlength=max_bin + 1)\n",
    "exp_zip = (\n",
    "    np.concatenate((zip_probs[:max_bin], [zip_probs[max_bin:].sum()])) * counts.size\n",
    ")\n",
    "exp_poi = (\n",
    "    np.concatenate((poi_probs[:max_bin], [poi_probs[max_bin:].sum()])) * counts.size\n",
    ")\n",
    "zip_chi2 = chisquare(obs, exp_zip)\n",
    "poi_chi2 = chisquare(obs, exp_poi)\n",
    "pd.Series(\n",
    "    {\n",
    "        \"lambda_poisson\": mean_c,\n",
    "        \"lambda_zip\": lam_zip,\n",
    "        \"p_zero_zip\": p_zip,\n",
    "        \"obs_zero_rate\": zero_c,\n",
    "        \"zip_zero_rate\": zip_probs[0],\n",
    "        \"poi_zero_rate\": poi_probs[0],\n",
    "        \"zip_chi2\": zip_chi2.statistic,\n",
    "        \"zip_p\": zip_chi2.pvalue,\n",
    "        \"poi_chi2\": poi_chi2.statistic,\n",
    "        \"poi_p\": poi_chi2.pvalue,\n",
    "    }\n",
    ").round(4)\n"
   ]
  },
  {
   "cell_type": "code",
   "execution_count": 6,
   "id": "b7a69f62",
   "metadata": {},
   "outputs": [
    {
     "data": {
      "text/plain": [
       "(  county_fips   n      mean  zero_rate     p_zip  lambda_zip  zip_chi2  \\\n",
       " 0       01001  26  0.576923   0.500000  0.000000    0.576923  1.281948   \n",
       " 1       01002  26  0.269231   0.769231  0.149753    0.316650  0.013099   \n",
       " 2       01003  26  1.230769   0.346154  0.141383    1.433433  2.269255   \n",
       " 3       01004  26  0.076923   0.923077  0.000000    0.076923  0.003155   \n",
       " 4       01005  26  0.307692   0.769231  0.492140    0.605860  0.111899   \n",
       " \n",
       "       zip_p  poi_chi2     poi_p    zip_aic    poi_aic    zip_bic    poi_bic  \n",
       " 0  0.526779  1.281948  0.526779  53.273979  51.273979  55.790172  52.532075  \n",
       " 1  0.993472  0.079930  0.960823  37.726818  35.756904  40.243011  37.015000  \n",
       " 2  0.810772  4.160309  0.526574  81.227520  79.968093  83.743713  81.226189  \n",
       " 3  0.955209  0.003155  0.955209  18.259797  16.259797  20.775991  17.517894  \n",
       " 4  0.945587  1.627334  0.443230  40.685765  39.631069  43.201958  40.889165  ,\n",
       " counties_tested    4119\n",
       " zip_better_chi2    1146\n",
       " zip_better_aic      467\n",
       " zip_better_bic      279\n",
       " dtype: int64)"
      ]
     },
     "execution_count": 6,
     "metadata": {},
     "output_type": "execute_result"
    }
   ],
   "source": [
    "from scipy.special import gammaln\n",
    "\n",
    "rows = []\n",
    "for county, grp in df_noaa.groupby(\"county_fips\"):\n",
    "    arr = grp[\"event_count\"].to_numpy()\n",
    "    n = arr.size\n",
    "    if n < 10:\n",
    "        continue\n",
    "    mean_c = arr.mean()\n",
    "    if mean_c <= 0:\n",
    "        continue\n",
    "    zero_rate = (arr == 0).mean()\n",
    "    p_zip = 0.0\n",
    "    if zero_rate > np.exp(-mean_c):\n",
    "        p_zip = optimize.brentq(lambda p: p + (1 - p) * np.exp(-mean_c / (1 - p)) - zero_rate, 1e-6, 0.999)\n",
    "    lam_zip = mean_c / (1 - p_zip)\n",
    "    lam_poi = mean_c\n",
    "    tail = min(max(arr), 5)\n",
    "    obs = np.bincount(np.minimum(arr, tail), minlength=tail + 1)\n",
    "    zip_probs = np.concatenate(([p_zip + (1 - p_zip) * np.exp(-lam_zip)], (1 - p_zip) * poisson.pmf(np.arange(1, tail + 1), lam_zip)))\n",
    "    poi_probs = poisson.pmf(np.arange(0, tail + 1), lam_poi)\n",
    "    zip_probs[-1] += (1 - p_zip) * poisson.sf(tail, lam_zip)\n",
    "    poi_probs[-1] += poisson.sf(tail, lam_poi)\n",
    "    exp_zip = zip_probs * n\n",
    "    exp_poi = poi_probs * n\n",
    "    if (exp_zip <= 0).any() or (exp_poi <= 0).any():\n",
    "        continue\n",
    "    zip_chi2, zip_p = chisquare(obs, exp_zip)\n",
    "    poi_chi2, poi_p = chisquare(obs, exp_poi)\n",
    "    ll_poi = np.sum(arr * np.log(lam_poi) - lam_poi - gammaln(arr + 1))\n",
    "    zeros = (arr == 0)\n",
    "    ll_zip = zeros.sum() * np.log(zip_probs[0]) + np.sum(np.log((1 - p_zip) * poisson.pmf(arr[~zeros], lam_zip)))\n",
    "    rows.append({\n",
    "        \"county_fips\": county,\n",
    "        \"n\": n,\n",
    "        \"mean\": mean_c,\n",
    "        \"zero_rate\": zero_rate,\n",
    "        \"p_zip\": p_zip,\n",
    "        \"lambda_zip\": lam_zip,\n",
    "        \"zip_chi2\": zip_chi2,\n",
    "        \"zip_p\": zip_p,\n",
    "        \"poi_chi2\": poi_chi2,\n",
    "        \"poi_p\": poi_p,\n",
    "        \"zip_aic\": 2 * 2 - 2 * ll_zip,\n",
    "        \"poi_aic\": 2 * 1 - 2 * ll_poi,\n",
    "        \"zip_bic\": 2 * np.log(n) - 2 * ll_zip,\n",
    "        \"poi_bic\": np.log(n) - 2 * ll_poi\n",
    "    })\n",
    "\n",
    "county_fit = pd.DataFrame(rows)\n",
    "summary = pd.Series({\n",
    "    \"counties_tested\": len(county_fit),\n",
    "    \"zip_better_chi2\": (county_fit[\"zip_p\"] > county_fit[\"poi_p\"]).sum(),\n",
    "    \"zip_better_aic\": (county_fit[\"zip_aic\"] < county_fit[\"poi_aic\"]).sum(),\n",
    "    \"zip_better_bic\": (county_fit[\"zip_bic\"] < county_fit[\"poi_bic\"]).sum()\n",
    "})\n",
    "county_fit.head(), summary"
   ]
  },
  {
   "cell_type": "code",
   "execution_count": 7,
   "id": "2d6d939e",
   "metadata": {},
   "outputs": [
    {
     "data": {
      "application/vnd.microsoft.datawrangler.viewer.v0+json": {
       "columns": [
        {
         "name": "index",
         "rawType": "int64",
         "type": "integer"
        },
        {
         "name": "county_fips",
         "rawType": "object",
         "type": "string"
        },
        {
         "name": "n",
         "rawType": "int64",
         "type": "integer"
        },
        {
         "name": "mean",
         "rawType": "float64",
         "type": "float"
        },
        {
         "name": "zero_rate",
         "rawType": "float64",
         "type": "float"
        },
        {
         "name": "p_zip",
         "rawType": "float64",
         "type": "float"
        },
        {
         "name": "lambda_zip",
         "rawType": "float64",
         "type": "float"
        },
        {
         "name": "zip_chi2",
         "rawType": "float64",
         "type": "float"
        },
        {
         "name": "zip_p",
         "rawType": "float64",
         "type": "float"
        },
        {
         "name": "poi_chi2",
         "rawType": "float64",
         "type": "float"
        },
        {
         "name": "poi_p",
         "rawType": "float64",
         "type": "float"
        },
        {
         "name": "ll_zip",
         "rawType": "float64",
         "type": "float"
        },
        {
         "name": "ll_poi",
         "rawType": "float64",
         "type": "float"
        },
        {
         "name": "zip_aic",
         "rawType": "float64",
         "type": "float"
        },
        {
         "name": "poi_aic",
         "rawType": "float64",
         "type": "float"
        },
        {
         "name": "zip_bic",
         "rawType": "float64",
         "type": "float"
        },
        {
         "name": "poi_bic",
         "rawType": "float64",
         "type": "float"
        }
       ],
       "ref": "a8336b49-73d9-46e5-8d42-4c109ae0d2ec",
       "rows": [
        [
         "0",
         "01001",
         "26",
         "0.5769230769230769",
         "0.5",
         "0.0",
         "0.5769230769230769",
         "1.2819484151683822",
         "0.5267789819046802",
         "1.2819484151683822",
         "0.5267789819046802",
         "-24.636989414908975",
         "-24.63698941490897",
         "53.27397882981795",
         "51.27397882981794",
         "55.790171905860916",
         "52.532075367839425"
        ],
        [
         "1",
         "01002",
         "26",
         "0.2692307692307692",
         "0.7692307692307693",
         "0.14975279552215673",
         "0.3166499905120066",
         "0.013099266522185992",
         "0.993471768836047",
         "0.07993045239028722",
         "0.9608228500376969",
         "-16.863408992762267",
         "-16.87845190332313",
         "37.726817985524534",
         "35.75690380664626",
         "40.2430110615675",
         "37.01500034466774"
        ],
        [
         "2",
         "01003",
         "26",
         "1.2307692307692308",
         "0.34615384615384615",
         "0.14138336424049244",
         "1.4334327795553692",
         "2.269254904627643",
         "0.8107717443985445",
         "4.160309168668899",
         "0.526573956578312",
         "-38.61376005999631",
         "-38.984046380362116",
         "81.22752011999262",
         "79.96809276072423",
         "83.74371319603559",
         "81.22618929874571"
        ],
        [
         "3",
         "01004",
         "26",
         "0.07692307692307693",
         "0.9230769230769231",
         "0.0",
         "0.07692307692307693",
         "0.003154698766614469",
         "0.9552090047220855",
         "0.003154698766614469",
         "0.9552090047220855",
         "-7.129898714923073",
         "-7.129898714923074",
         "18.259797429846145",
         "16.25979742984615",
         "20.77599050588911",
         "17.517893967867632"
        ],
        [
         "4",
         "01005",
         "26",
         "0.3076923076923077",
         "0.7692307692307693",
         "0.4921395720028176",
         "0.6058599779190018",
         "0.11189943627101245",
         "0.9455866805564079",
         "1.6273344577819027",
         "0.4432296575687271",
         "-18.342882254335183",
         "-18.81553433185306",
         "40.68576450867037",
         "39.63106866370612",
         "43.201957584713334",
         "40.8891652017276"
        ]
       ],
       "shape": {
        "columns": 16,
        "rows": 5
       }
      },
      "text/html": [
       "<div>\n",
       "<style scoped>\n",
       "    .dataframe tbody tr th:only-of-type {\n",
       "        vertical-align: middle;\n",
       "    }\n",
       "\n",
       "    .dataframe tbody tr th {\n",
       "        vertical-align: top;\n",
       "    }\n",
       "\n",
       "    .dataframe thead th {\n",
       "        text-align: right;\n",
       "    }\n",
       "</style>\n",
       "<table border=\"1\" class=\"dataframe\">\n",
       "  <thead>\n",
       "    <tr style=\"text-align: right;\">\n",
       "      <th></th>\n",
       "      <th>county_fips</th>\n",
       "      <th>n</th>\n",
       "      <th>mean</th>\n",
       "      <th>zero_rate</th>\n",
       "      <th>p_zip</th>\n",
       "      <th>lambda_zip</th>\n",
       "      <th>zip_chi2</th>\n",
       "      <th>zip_p</th>\n",
       "      <th>poi_chi2</th>\n",
       "      <th>poi_p</th>\n",
       "      <th>ll_zip</th>\n",
       "      <th>ll_poi</th>\n",
       "      <th>zip_aic</th>\n",
       "      <th>poi_aic</th>\n",
       "      <th>zip_bic</th>\n",
       "      <th>poi_bic</th>\n",
       "    </tr>\n",
       "  </thead>\n",
       "  <tbody>\n",
       "    <tr>\n",
       "      <th>0</th>\n",
       "      <td>01001</td>\n",
       "      <td>26</td>\n",
       "      <td>0.576923</td>\n",
       "      <td>0.500000</td>\n",
       "      <td>0.000000</td>\n",
       "      <td>0.576923</td>\n",
       "      <td>1.281948</td>\n",
       "      <td>0.526779</td>\n",
       "      <td>1.281948</td>\n",
       "      <td>0.526779</td>\n",
       "      <td>-24.636989</td>\n",
       "      <td>-24.636989</td>\n",
       "      <td>53.273979</td>\n",
       "      <td>51.273979</td>\n",
       "      <td>55.790172</td>\n",
       "      <td>52.532075</td>\n",
       "    </tr>\n",
       "    <tr>\n",
       "      <th>1</th>\n",
       "      <td>01002</td>\n",
       "      <td>26</td>\n",
       "      <td>0.269231</td>\n",
       "      <td>0.769231</td>\n",
       "      <td>0.149753</td>\n",
       "      <td>0.316650</td>\n",
       "      <td>0.013099</td>\n",
       "      <td>0.993472</td>\n",
       "      <td>0.079930</td>\n",
       "      <td>0.960823</td>\n",
       "      <td>-16.863409</td>\n",
       "      <td>-16.878452</td>\n",
       "      <td>37.726818</td>\n",
       "      <td>35.756904</td>\n",
       "      <td>40.243011</td>\n",
       "      <td>37.015000</td>\n",
       "    </tr>\n",
       "    <tr>\n",
       "      <th>2</th>\n",
       "      <td>01003</td>\n",
       "      <td>26</td>\n",
       "      <td>1.230769</td>\n",
       "      <td>0.346154</td>\n",
       "      <td>0.141383</td>\n",
       "      <td>1.433433</td>\n",
       "      <td>2.269255</td>\n",
       "      <td>0.810772</td>\n",
       "      <td>4.160309</td>\n",
       "      <td>0.526574</td>\n",
       "      <td>-38.613760</td>\n",
       "      <td>-38.984046</td>\n",
       "      <td>81.227520</td>\n",
       "      <td>79.968093</td>\n",
       "      <td>83.743713</td>\n",
       "      <td>81.226189</td>\n",
       "    </tr>\n",
       "    <tr>\n",
       "      <th>3</th>\n",
       "      <td>01004</td>\n",
       "      <td>26</td>\n",
       "      <td>0.076923</td>\n",
       "      <td>0.923077</td>\n",
       "      <td>0.000000</td>\n",
       "      <td>0.076923</td>\n",
       "      <td>0.003155</td>\n",
       "      <td>0.955209</td>\n",
       "      <td>0.003155</td>\n",
       "      <td>0.955209</td>\n",
       "      <td>-7.129899</td>\n",
       "      <td>-7.129899</td>\n",
       "      <td>18.259797</td>\n",
       "      <td>16.259797</td>\n",
       "      <td>20.775991</td>\n",
       "      <td>17.517894</td>\n",
       "    </tr>\n",
       "    <tr>\n",
       "      <th>4</th>\n",
       "      <td>01005</td>\n",
       "      <td>26</td>\n",
       "      <td>0.307692</td>\n",
       "      <td>0.769231</td>\n",
       "      <td>0.492140</td>\n",
       "      <td>0.605860</td>\n",
       "      <td>0.111899</td>\n",
       "      <td>0.945587</td>\n",
       "      <td>1.627334</td>\n",
       "      <td>0.443230</td>\n",
       "      <td>-18.342882</td>\n",
       "      <td>-18.815534</td>\n",
       "      <td>40.685765</td>\n",
       "      <td>39.631069</td>\n",
       "      <td>43.201958</td>\n",
       "      <td>40.889165</td>\n",
       "    </tr>\n",
       "  </tbody>\n",
       "</table>\n",
       "</div>"
      ],
      "text/plain": [
       "  county_fips   n      mean  zero_rate     p_zip  lambda_zip  zip_chi2  \\\n",
       "0       01001  26  0.576923   0.500000  0.000000    0.576923  1.281948   \n",
       "1       01002  26  0.269231   0.769231  0.149753    0.316650  0.013099   \n",
       "2       01003  26  1.230769   0.346154  0.141383    1.433433  2.269255   \n",
       "3       01004  26  0.076923   0.923077  0.000000    0.076923  0.003155   \n",
       "4       01005  26  0.307692   0.769231  0.492140    0.605860  0.111899   \n",
       "\n",
       "      zip_p  poi_chi2     poi_p     ll_zip     ll_poi    zip_aic    poi_aic  \\\n",
       "0  0.526779  1.281948  0.526779 -24.636989 -24.636989  53.273979  51.273979   \n",
       "1  0.993472  0.079930  0.960823 -16.863409 -16.878452  37.726818  35.756904   \n",
       "2  0.810772  4.160309  0.526574 -38.613760 -38.984046  81.227520  79.968093   \n",
       "3  0.955209  0.003155  0.955209  -7.129899  -7.129899  18.259797  16.259797   \n",
       "4  0.945587  1.627334  0.443230 -18.342882 -18.815534  40.685765  39.631069   \n",
       "\n",
       "     zip_bic    poi_bic  \n",
       "0  55.790172  52.532075  \n",
       "1  40.243011  37.015000  \n",
       "2  83.743713  81.226189  \n",
       "3  20.775991  17.517894  \n",
       "4  43.201958  40.889165  "
      ]
     },
     "execution_count": 7,
     "metadata": {},
     "output_type": "execute_result"
    }
   ],
   "source": [
    "from scipy.special import gammaln\n",
    "\n",
    "rows = []\n",
    "for county, grp in df_noaa.groupby(\"county_fips\"):\n",
    "    arr = grp[\"event_count\"].to_numpy()\n",
    "    n = arr.size\n",
    "    if n < 10:\n",
    "        continue\n",
    "\n",
    "    mean_c = arr.mean()\n",
    "    if mean_c <= 0:\n",
    "        continue\n",
    "\n",
    "    zero_rate = (arr == 0).mean()\n",
    "    p_zip = 0.0\n",
    "    if zero_rate > np.exp(-mean_c):\n",
    "        p_zip = optimize.brentq(\n",
    "            lambda p: p + (1 - p) * np.exp(-mean_c / (1 - p)) - zero_rate,\n",
    "            1e-6,\n",
    "            0.999,\n",
    "        )\n",
    "\n",
    "    lam_poi = mean_c\n",
    "    lam_zip = mean_c / (1 - p_zip)\n",
    "\n",
    "    tail = min(int(arr.max()), 5)\n",
    "    obs = np.bincount(np.minimum(arr, tail), minlength=tail + 1)\n",
    "\n",
    "    poi_probs = poisson.pmf(np.arange(tail + 1), lam_poi)\n",
    "    zip_probs = np.concatenate(\n",
    "        (\n",
    "            [p_zip + (1 - p_zip) * np.exp(-lam_zip)],\n",
    "            (1 - p_zip) * poisson.pmf(np.arange(1, tail + 1), lam_zip),\n",
    "        )\n",
    "    )\n",
    "    poi_probs[-1] += poisson.sf(tail, lam_poi)\n",
    "    zip_probs[-1] += (1 - p_zip) * poisson.sf(tail, lam_zip)\n",
    "\n",
    "    exp_poi = poi_probs * n\n",
    "    exp_zip = zip_probs * n\n",
    "    if (exp_poi <= 0).any() or (exp_zip <= 0).any():\n",
    "        continue\n",
    "\n",
    "    zip_chi2, zip_p = chisquare(obs, exp_zip)\n",
    "    poi_chi2, poi_p = chisquare(obs, exp_poi)\n",
    "\n",
    "    ll_poi = np.sum(arr * np.log(lam_poi) - lam_poi - gammaln(arr + 1))\n",
    "    zeros = arr == 0\n",
    "    ll_zip = (\n",
    "        zeros.sum() * np.log(zip_probs[0])\n",
    "        + np.sum(np.log((1 - p_zip) * poisson.pmf(arr[~zeros], lam_zip)))\n",
    "    )\n",
    "\n",
    "    rows.append(\n",
    "        {\n",
    "            \"county_fips\": county,\n",
    "            \"n\": n,\n",
    "            \"mean\": mean_c,\n",
    "            \"zero_rate\": zero_rate,\n",
    "            \"p_zip\": p_zip,\n",
    "            \"lambda_zip\": lam_zip,\n",
    "            \"zip_chi2\": zip_chi2,\n",
    "            \"zip_p\": zip_p,\n",
    "            \"poi_chi2\": poi_chi2,\n",
    "            \"poi_p\": poi_p,\n",
    "            \"ll_zip\": ll_zip,\n",
    "            \"ll_poi\": ll_poi,\n",
    "        }\n",
    "    )\n",
    "\n",
    "county_fit = pd.DataFrame(rows)\n",
    "county_fit[\"zip_aic\"] = 2 * 2 - 2 * county_fit[\"ll_zip\"]\n",
    "county_fit[\"poi_aic\"] = 2 * 1 - 2 * county_fit[\"ll_poi\"]\n",
    "county_fit[\"zip_bic\"] = 2 * np.log(county_fit[\"n\"]) - 2 * county_fit[\"ll_zip\"]\n",
    "county_fit[\"poi_bic\"] = np.log(county_fit[\"n\"]) - 2 * county_fit[\"ll_poi\"]\n",
    "\n",
    "county_fit.head()"
   ]
  },
  {
   "cell_type": "code",
   "execution_count": 8,
   "id": "44b1938d",
   "metadata": {},
   "outputs": [
    {
     "data": {
      "application/vnd.microsoft.datawrangler.viewer.v0+json": {
       "columns": [
        {
         "name": "index",
         "rawType": "object",
         "type": "string"
        },
        {
         "name": "0",
         "rawType": "int64",
         "type": "integer"
        }
       ],
       "ref": "9d8e5c9f-6041-46e3-bd82-d551b6ea9a2f",
       "rows": [
        [
         "counties_tested",
         "4119"
        ],
        [
         "zip_better_chi2",
         "1146"
        ],
        [
         "zip_better_aic",
         "467"
        ],
        [
         "zip_better_bic",
         "279"
        ],
        [
         "zip_lr_sig",
         "521"
        ]
       ],
       "shape": {
        "columns": 1,
        "rows": 5
       }
      },
      "text/plain": [
       "counties_tested    4119\n",
       "zip_better_chi2    1146\n",
       "zip_better_aic      467\n",
       "zip_better_bic      279\n",
       "zip_lr_sig          521\n",
       "dtype: int64"
      ]
     },
     "execution_count": 8,
     "metadata": {},
     "output_type": "execute_result"
    }
   ],
   "source": [
    "from scipy.stats import norm\n",
    "\n",
    "county_fit[\"lr_stat\"] = np.maximum(0, 2 * (county_fit[\"ll_zip\"] - county_fit[\"ll_poi\"]))\n",
    "county_fit[\"zip_lr_p\"] = 0.5 * (1 - norm.cdf(np.sqrt(county_fit[\"lr_stat\"])))\n",
    "county_fit[\"zip_lr_sig\"] = county_fit[\"zip_lr_p\"] < 0.05\n",
    "\n",
    "summary = pd.Series(\n",
    "    {\n",
    "        \"counties_tested\": len(county_fit),\n",
    "        \"zip_better_chi2\": (county_fit[\"zip_p\"] > county_fit[\"poi_p\"]).sum(),\n",
    "        \"zip_better_aic\": (county_fit[\"zip_aic\"] < county_fit[\"poi_aic\"]).sum(),\n",
    "        \"zip_better_bic\": (county_fit[\"zip_bic\"] < county_fit[\"poi_bic\"]).sum(),\n",
    "        \"zip_lr_sig\": county_fit[\"zip_lr_sig\"].sum(),\n",
    "    }\n",
    ")\n",
    "summary"
   ]
  },
  {
   "cell_type": "code",
   "execution_count": null,
   "id": "496bd91b",
   "metadata": {},
   "outputs": [],
   "source": []
  }
 ],
 "metadata": {
  "kernelspec": {
   "display_name": "Python 3",
   "language": "python",
   "name": "python3"
  },
  "language_info": {
   "codemirror_mode": {
    "name": "ipython",
    "version": 3
   },
   "file_extension": ".py",
   "mimetype": "text/x-python",
   "name": "python",
   "nbconvert_exporter": "python",
   "pygments_lexer": "ipython3",
   "version": "3.13.1"
  }
 },
 "nbformat": 4,
 "nbformat_minor": 5
}
