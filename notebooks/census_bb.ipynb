{
 "cells": [
  {
   "cell_type": "markdown",
   "id": "03799d72",
   "metadata": {},
   "source": [
    "# breadboard for census community resilience estimates\n",
    "## 2023 estimates\n",
    "## https://www.census.gov/programs-surveys/community-resilience-estimates/data/datasets.html\n",
    "\n",
    "FIPS format (11 digits): SSCCCTTTTTT\n",
    "\n",
    "SS = 2-digit state code\n",
    "CCC = 3-digit county code\n",
    "TTTTTT = 6-digit (census) tract code\n",
    "\n",
    "\n",
    "__GEO_ID__ A geographic identifier which contains information on the type of geography and applicable FIPS codes  \n",
    "__STATE__ State FIPS code  \n",
    "__COUNTY__ County FIPS code*  \n",
    "__TRACT__ Tract FIPS code*  \n",
    "__NAME__ Geographic Area Name  \n",
    "__GEO_LEVEL__ Geographic level*  \n",
    "__WATER_TRACT__ Flag that denotes tracts composed completely of water, where no populations\n",
    "reside*  \n",
    "__POPUNI__ Total population (excludes adult correctional/juvenile facilities and college dorms)  \n",
    "__PRED0_E__ Estimated number of individuals with zero components of social vulnerability  \n",
    "__PRED0_M__ Estimated margin of error for individuals with zero components of social\n",
    "vulnerability  \n",
    "__PRED0_PE__ Rate of individuals with zero components of social vulnerability  \n",
    "__PRED0_PM__ Rate margin of error for individuals with zero components of social vulnerability  \n",
    "__PRED12_E__ Estimated number of individuals with one-two components of social vulnerability  \n",
    "__PRED12_M__ Estimated margin of error for individuals with one-two components of social\n",
    "vulnerability  \n",
    "__PRED12_PE__ Rate of individuals with one-two components of social vulnerability  \n",
    "__PRED12_PM__ Rate margin of error for individuals with one-two components of social\n",
    "vulnerability  \n",
    "__PRED3_E__ Estimated number of individuals with three plus components of social vulnerability  \n",
    "__PRED3_M__ Estimated margin of error for individuals with three plus components of social\n",
    "vulnerability  \n",
    "__PRED3_PE__ Rate of individuals with three plus components of social vulnerability  \n",
    "__PRED3_PM__ Rate margin of error for individuals with three plus components of social\n",
    "vulnerability  \n",
    "\n",
    "\n",
    "keep list    \n",
    "- GEO_ID\n",
    "- GEO_LEVEL\n",
    "- WATER_TRACT\n",
    "- POPUNI\n",
    "- PRED12_PE\n",
    "- PRED3_PE\n"
   ]
  },
  {
   "cell_type": "code",
   "execution_count": null,
   "id": "3843ca23",
   "metadata": {},
   "outputs": [],
   "source": [
    "# import libraries\n",
    "# NOTE: global_vars should be edited to include local paths and credentials before use.\n",
    "# If global_vars.py is created in the root dir remove the ignore/ prefix in the import statement below.\n",
    "import ignore.global_vars as gv\n",
    "import db_tools as dbt\n",
    "import pandas as pd\n",
    "\n"
   ]
  },
  {
   "cell_type": "code",
   "execution_count": null,
   "id": "4d0c145b",
   "metadata": {},
   "outputs": [],
   "source": [
    "# NOTE: Set to True if a full rebuild is required, set to False to skip table builds. Search 'REBUILD_TABLE' to see which sections are effected.\n",
    "REBUILD = False"
   ]
  },
  {
   "cell_type": "code",
   "execution_count": 2,
   "id": "1dd762a6",
   "metadata": {},
   "outputs": [
    {
     "data": {
      "application/vnd.microsoft.datawrangler.viewer.v0+json": {
       "columns": [
        {
         "name": "index",
         "rawType": "int64",
         "type": "integer"
        },
        {
         "name": "GEO_ID",
         "rawType": "object",
         "type": "string"
        },
        {
         "name": "STATE",
         "rawType": "int64",
         "type": "integer"
        },
        {
         "name": "COUNTY",
         "rawType": "int64",
         "type": "integer"
        },
        {
         "name": "TRACT",
         "rawType": "int64",
         "type": "integer"
        },
        {
         "name": "NAME",
         "rawType": "object",
         "type": "string"
        },
        {
         "name": "GEO_LEVEL",
         "rawType": "object",
         "type": "string"
        },
        {
         "name": "WATER_TRACT",
         "rawType": "float64",
         "type": "float"
        },
        {
         "name": "POPUNI",
         "rawType": "int64",
         "type": "integer"
        },
        {
         "name": "PRED0_E",
         "rawType": "int64",
         "type": "integer"
        },
        {
         "name": "PRED0_M",
         "rawType": "int64",
         "type": "integer"
        },
        {
         "name": "PRED0_PE",
         "rawType": "float64",
         "type": "float"
        },
        {
         "name": "PRED0_PM",
         "rawType": "float64",
         "type": "float"
        },
        {
         "name": "PRED12_E",
         "rawType": "int64",
         "type": "integer"
        },
        {
         "name": "PRED12_M",
         "rawType": "int64",
         "type": "integer"
        },
        {
         "name": "PRED12_PE",
         "rawType": "float64",
         "type": "float"
        },
        {
         "name": "PRED12_PM",
         "rawType": "float64",
         "type": "float"
        },
        {
         "name": "PRED3_E",
         "rawType": "int64",
         "type": "integer"
        },
        {
         "name": "PRED3_M",
         "rawType": "int64",
         "type": "integer"
        },
        {
         "name": "PRED3_PE",
         "rawType": "float64",
         "type": "float"
        },
        {
         "name": "PRED3_PM",
         "rawType": "float64",
         "type": "float"
        }
       ],
       "ref": "76b7c309-644a-41a3-860e-c4094e57cdea",
       "rows": [
        [
         "21617",
         "1400000US13051011004",
         "13",
         "51",
         "11004",
         "Census Tract 110.04, Chatham County, Georgia",
         "Tract",
         null,
         "3695",
         "1523",
         "467",
         "41.22",
         "12.64",
         "1760",
         "469",
         "47.63",
         "12.69",
         "412",
         "355",
         "11.15",
         "9.61"
        ],
        [
         "16899",
         "1400000US12017451603",
         "12",
         "17",
         "451603",
         "Census Tract 4516.03, Citrus County, Florida",
         "Tract",
         null,
         "2244",
         "457",
         "229",
         "20.37",
         "10.2",
         "1251",
         "267",
         "55.75",
         "11.9",
         "536",
         "249",
         "23.89",
         "11.1"
        ],
        [
         "84509",
         "0500000US02275",
         "2",
         "275",
         "0",
         "Wrangell City and Borough, Alaska",
         "County",
         null,
         "2064",
         "507",
         "173",
         "24.56",
         "8.38",
         "1015",
         "203",
         "49.18",
         "9.84",
         "542",
         "180",
         "26.26",
         "8.72"
        ],
        [
         "4827",
         "1400000US06013355111",
         "6",
         "13",
         "355111",
         "Census Tract 3551.11, Contra Costa County, California",
         "Tract",
         null,
         "6686",
         "1784",
         "734",
         "26.68",
         "10.98",
         "3461",
         "818",
         "51.76",
         "12.23",
         "1441",
         "663",
         "21.55",
         "9.92"
        ],
        [
         "1868",
         "1400000US04013071516",
         "4",
         "13",
         "71516",
         "Census Tract 715.16, Maricopa County, Arizona",
         "Tract",
         null,
         "4761",
         "715",
         "633",
         "15.02",
         "13.3",
         "2392",
         "712",
         "50.24",
         "14.95",
         "1654",
         "642",
         "34.74",
         "13.48"
        ]
       ],
       "shape": {
        "columns": 20,
        "rows": 5
       }
      },
      "text/html": [
       "<div>\n",
       "<style scoped>\n",
       "    .dataframe tbody tr th:only-of-type {\n",
       "        vertical-align: middle;\n",
       "    }\n",
       "\n",
       "    .dataframe tbody tr th {\n",
       "        vertical-align: top;\n",
       "    }\n",
       "\n",
       "    .dataframe thead th {\n",
       "        text-align: right;\n",
       "    }\n",
       "</style>\n",
       "<table border=\"1\" class=\"dataframe\">\n",
       "  <thead>\n",
       "    <tr style=\"text-align: right;\">\n",
       "      <th></th>\n",
       "      <th>GEO_ID</th>\n",
       "      <th>STATE</th>\n",
       "      <th>COUNTY</th>\n",
       "      <th>TRACT</th>\n",
       "      <th>NAME</th>\n",
       "      <th>GEO_LEVEL</th>\n",
       "      <th>WATER_TRACT</th>\n",
       "      <th>POPUNI</th>\n",
       "      <th>PRED0_E</th>\n",
       "      <th>PRED0_M</th>\n",
       "      <th>PRED0_PE</th>\n",
       "      <th>PRED0_PM</th>\n",
       "      <th>PRED12_E</th>\n",
       "      <th>PRED12_M</th>\n",
       "      <th>PRED12_PE</th>\n",
       "      <th>PRED12_PM</th>\n",
       "      <th>PRED3_E</th>\n",
       "      <th>PRED3_M</th>\n",
       "      <th>PRED3_PE</th>\n",
       "      <th>PRED3_PM</th>\n",
       "    </tr>\n",
       "  </thead>\n",
       "  <tbody>\n",
       "    <tr>\n",
       "      <th>21617</th>\n",
       "      <td>1400000US13051011004</td>\n",
       "      <td>13</td>\n",
       "      <td>51</td>\n",
       "      <td>11004</td>\n",
       "      <td>Census Tract 110.04, Chatham County, Georgia</td>\n",
       "      <td>Tract</td>\n",
       "      <td>NaN</td>\n",
       "      <td>3695</td>\n",
       "      <td>1523</td>\n",
       "      <td>467</td>\n",
       "      <td>41.22</td>\n",
       "      <td>12.64</td>\n",
       "      <td>1760</td>\n",
       "      <td>469</td>\n",
       "      <td>47.63</td>\n",
       "      <td>12.69</td>\n",
       "      <td>412</td>\n",
       "      <td>355</td>\n",
       "      <td>11.15</td>\n",
       "      <td>9.61</td>\n",
       "    </tr>\n",
       "    <tr>\n",
       "      <th>16899</th>\n",
       "      <td>1400000US12017451603</td>\n",
       "      <td>12</td>\n",
       "      <td>17</td>\n",
       "      <td>451603</td>\n",
       "      <td>Census Tract 4516.03, Citrus County, Florida</td>\n",
       "      <td>Tract</td>\n",
       "      <td>NaN</td>\n",
       "      <td>2244</td>\n",
       "      <td>457</td>\n",
       "      <td>229</td>\n",
       "      <td>20.37</td>\n",
       "      <td>10.20</td>\n",
       "      <td>1251</td>\n",
       "      <td>267</td>\n",
       "      <td>55.75</td>\n",
       "      <td>11.90</td>\n",
       "      <td>536</td>\n",
       "      <td>249</td>\n",
       "      <td>23.89</td>\n",
       "      <td>11.10</td>\n",
       "    </tr>\n",
       "    <tr>\n",
       "      <th>84509</th>\n",
       "      <td>0500000US02275</td>\n",
       "      <td>2</td>\n",
       "      <td>275</td>\n",
       "      <td>0</td>\n",
       "      <td>Wrangell City and Borough, Alaska</td>\n",
       "      <td>County</td>\n",
       "      <td>NaN</td>\n",
       "      <td>2064</td>\n",
       "      <td>507</td>\n",
       "      <td>173</td>\n",
       "      <td>24.56</td>\n",
       "      <td>8.38</td>\n",
       "      <td>1015</td>\n",
       "      <td>203</td>\n",
       "      <td>49.18</td>\n",
       "      <td>9.84</td>\n",
       "      <td>542</td>\n",
       "      <td>180</td>\n",
       "      <td>26.26</td>\n",
       "      <td>8.72</td>\n",
       "    </tr>\n",
       "    <tr>\n",
       "      <th>4827</th>\n",
       "      <td>1400000US06013355111</td>\n",
       "      <td>6</td>\n",
       "      <td>13</td>\n",
       "      <td>355111</td>\n",
       "      <td>Census Tract 3551.11, Contra Costa County, Cal...</td>\n",
       "      <td>Tract</td>\n",
       "      <td>NaN</td>\n",
       "      <td>6686</td>\n",
       "      <td>1784</td>\n",
       "      <td>734</td>\n",
       "      <td>26.68</td>\n",
       "      <td>10.98</td>\n",
       "      <td>3461</td>\n",
       "      <td>818</td>\n",
       "      <td>51.76</td>\n",
       "      <td>12.23</td>\n",
       "      <td>1441</td>\n",
       "      <td>663</td>\n",
       "      <td>21.55</td>\n",
       "      <td>9.92</td>\n",
       "    </tr>\n",
       "    <tr>\n",
       "      <th>1868</th>\n",
       "      <td>1400000US04013071516</td>\n",
       "      <td>4</td>\n",
       "      <td>13</td>\n",
       "      <td>71516</td>\n",
       "      <td>Census Tract 715.16, Maricopa County, Arizona</td>\n",
       "      <td>Tract</td>\n",
       "      <td>NaN</td>\n",
       "      <td>4761</td>\n",
       "      <td>715</td>\n",
       "      <td>633</td>\n",
       "      <td>15.02</td>\n",
       "      <td>13.30</td>\n",
       "      <td>2392</td>\n",
       "      <td>712</td>\n",
       "      <td>50.24</td>\n",
       "      <td>14.95</td>\n",
       "      <td>1654</td>\n",
       "      <td>642</td>\n",
       "      <td>34.74</td>\n",
       "      <td>13.48</td>\n",
       "    </tr>\n",
       "  </tbody>\n",
       "</table>\n",
       "</div>"
      ],
      "text/plain": [
       "                     GEO_ID  STATE  COUNTY   TRACT  \\\n",
       "21617  1400000US13051011004     13      51   11004   \n",
       "16899  1400000US12017451603     12      17  451603   \n",
       "84509        0500000US02275      2     275       0   \n",
       "4827   1400000US06013355111      6      13  355111   \n",
       "1868   1400000US04013071516      4      13   71516   \n",
       "\n",
       "                                                    NAME GEO_LEVEL  \\\n",
       "21617       Census Tract 110.04, Chatham County, Georgia     Tract   \n",
       "16899       Census Tract 4516.03, Citrus County, Florida     Tract   \n",
       "84509                  Wrangell City and Borough, Alaska    County   \n",
       "4827   Census Tract 3551.11, Contra Costa County, Cal...     Tract   \n",
       "1868       Census Tract 715.16, Maricopa County, Arizona     Tract   \n",
       "\n",
       "       WATER_TRACT  POPUNI  PRED0_E  PRED0_M  PRED0_PE  PRED0_PM  PRED12_E  \\\n",
       "21617          NaN    3695     1523      467     41.22     12.64      1760   \n",
       "16899          NaN    2244      457      229     20.37     10.20      1251   \n",
       "84509          NaN    2064      507      173     24.56      8.38      1015   \n",
       "4827           NaN    6686     1784      734     26.68     10.98      3461   \n",
       "1868           NaN    4761      715      633     15.02     13.30      2392   \n",
       "\n",
       "       PRED12_M  PRED12_PE  PRED12_PM  PRED3_E  PRED3_M  PRED3_PE  PRED3_PM  \n",
       "21617       469      47.63      12.69      412      355     11.15      9.61  \n",
       "16899       267      55.75      11.90      536      249     23.89     11.10  \n",
       "84509       203      49.18       9.84      542      180     26.26      8.72  \n",
       "4827        818      51.76      12.23     1441      663     21.55      9.92  \n",
       "1868        712      50.24      14.95     1654      642     34.74     13.48  "
      ]
     },
     "execution_count": 2,
     "metadata": {},
     "output_type": "execute_result"
    }
   ],
   "source": [
    "df = pd.read_csv(gv.DATA_PATHS[\"census_resilience\"], encoding='latin-1')\n",
    "df.sample(5)"
   ]
  },
  {
   "cell_type": "code",
   "execution_count": 3,
   "id": "6da70638",
   "metadata": {},
   "outputs": [
    {
     "name": "stdout",
     "output_type": "stream",
     "text": [
      "(87611, 20)\n",
      "<class 'pandas.core.frame.DataFrame'>\n",
      "RangeIndex: 87611 entries, 0 to 87610\n",
      "Data columns (total 20 columns):\n",
      " #   Column       Non-Null Count  Dtype  \n",
      "---  ------       --------------  -----  \n",
      " 0   GEO_ID       87611 non-null  object \n",
      " 1   STATE        87611 non-null  int64  \n",
      " 2   COUNTY       87611 non-null  int64  \n",
      " 3   TRACT        87611 non-null  int64  \n",
      " 4   NAME         87611 non-null  object \n",
      " 5   GEO_LEVEL    87611 non-null  object \n",
      " 6   WATER_TRACT  320 non-null    float64\n",
      " 7   POPUNI       87611 non-null  int64  \n",
      " 8   PRED0_E      87611 non-null  int64  \n",
      " 9   PRED0_M      87611 non-null  int64  \n",
      " 10  PRED0_PE     87611 non-null  float64\n",
      " 11  PRED0_PM     87611 non-null  float64\n",
      " 12  PRED12_E     87611 non-null  int64  \n",
      " 13  PRED12_M     87611 non-null  int64  \n",
      " 14  PRED12_PE    87611 non-null  float64\n",
      " 15  PRED12_PM    87611 non-null  float64\n",
      " 16  PRED3_E      87611 non-null  int64  \n",
      " 17  PRED3_M      87611 non-null  int64  \n",
      " 18  PRED3_PE     87611 non-null  float64\n",
      " 19  PRED3_PM     87611 non-null  float64\n",
      "dtypes: float64(7), int64(10), object(3)\n",
      "memory usage: 13.4+ MB\n",
      "None\n"
     ]
    }
   ],
   "source": [
    "print(df.shape)\n",
    "print(df.info())"
   ]
  },
  {
   "cell_type": "code",
   "execution_count": 4,
   "id": "b5d290e7",
   "metadata": {},
   "outputs": [
    {
     "data": {
      "application/vnd.microsoft.datawrangler.viewer.v0+json": {
       "columns": [
        {
         "name": "index",
         "rawType": "object",
         "type": "string"
        },
        {
         "name": "TRACT",
         "rawType": "float64",
         "type": "float"
        }
       ],
       "ref": "d618d2f2-cc97-48c7-9590-ccea1fcc8514",
       "rows": [
        [
         "count",
         "87611.0"
        ],
        [
         "mean",
         "4.972297999109701"
        ],
        [
         "std",
         "1.172545617943951"
        ],
        [
         "min",
         "1.0"
        ],
        [
         "25%",
         "4.0"
        ],
        [
         "50%",
         "5.0"
        ],
        [
         "75%",
         "6.0"
        ],
        [
         "max",
         "6.0"
        ]
       ],
       "shape": {
        "columns": 1,
        "rows": 8
       }
      },
      "text/plain": [
       "count    87611.000000\n",
       "mean         4.972298\n",
       "std          1.172546\n",
       "min          1.000000\n",
       "25%          4.000000\n",
       "50%          5.000000\n",
       "75%          6.000000\n",
       "max          6.000000\n",
       "Name: TRACT, dtype: float64"
      ]
     },
     "execution_count": 4,
     "metadata": {},
     "output_type": "execute_result"
    }
   ],
   "source": [
    "# Check TRACT field lengths for conversion\n",
    "df = df.copy()\n",
    "df['TRACT'] = df['TRACT'].astype(str)\n",
    "df['TRACT'].str.len().describe()"
   ]
  },
  {
   "cell_type": "code",
   "execution_count": 5,
   "id": "5294ab00",
   "metadata": {},
   "outputs": [
    {
     "data": {
      "text/plain": [
       "array(['Tract', 'County', 'State', 'US'], dtype=object)"
      ]
     },
     "execution_count": 5,
     "metadata": {},
     "output_type": "execute_result"
    }
   ],
   "source": [
    "df['GEO_LEVEL'].unique()"
   ]
  },
  {
   "cell_type": "code",
   "execution_count": 6,
   "id": "e88b7098",
   "metadata": {},
   "outputs": [
    {
     "name": "stdout",
     "output_type": "stream",
     "text": [
      "1\n",
      "51\n",
      "3144\n",
      "84415\n"
     ]
    }
   ],
   "source": [
    "# check if the GEO_LEVEL data is heirarchical.\n",
    "us_count = (df['GEO_LEVEL'] == 'US').sum()\n",
    "state_count = (df['GEO_LEVEL'] == 'State').sum()\n",
    "county_count = (df['GEO_LEVEL'] == 'County').sum()\n",
    "tract_count = (df['GEO_LEVEL'] == 'Tract').sum()\n",
    "print(us_count)\n",
    "print(state_count)\n",
    "print(county_count)\n",
    "print(tract_count)"
   ]
  },
  {
   "cell_type": "code",
   "execution_count": 7,
   "id": "7a36a07a",
   "metadata": {},
   "outputs": [
    {
     "data": {
      "application/vnd.microsoft.datawrangler.viewer.v0+json": {
       "columns": [
        {
         "name": "index",
         "rawType": "object",
         "type": "string"
        },
        {
         "name": "TRACT",
         "rawType": "float64",
         "type": "float"
        }
       ],
       "ref": "48e21753-e1e8-44a8-869f-b7237960af12",
       "rows": [
        [
         "count",
         "3196.0"
        ],
        [
         "mean",
         "1.0"
        ],
        [
         "std",
         "0.0"
        ],
        [
         "min",
         "1.0"
        ],
        [
         "25%",
         "1.0"
        ],
        [
         "50%",
         "1.0"
        ],
        [
         "75%",
         "1.0"
        ],
        [
         "max",
         "1.0"
        ]
       ],
       "shape": {
        "columns": 1,
        "rows": 8
       }
      },
      "text/plain": [
       "count    3196.0\n",
       "mean        1.0\n",
       "std         0.0\n",
       "min         1.0\n",
       "25%         1.0\n",
       "50%         1.0\n",
       "75%         1.0\n",
       "max         1.0\n",
       "Name: TRACT, dtype: float64"
      ]
     },
     "execution_count": 7,
     "metadata": {},
     "output_type": "execute_result"
    }
   ],
   "source": [
    "# verify no useful FIPS codes in non-tract rows\n",
    "# describe statement should show no >= 2 digit values\n",
    "df_not_tract = df[df['GEO_LEVEL'] != 'Tract'].copy()\n",
    "df_not_tract['TRACT'] = df_not_tract['TRACT'].astype(str)\n",
    "df_not_tract = df_not_tract.reset_index(drop=True)\n",
    "df_not_tract['TRACT'].str.len().describe()"
   ]
  },
  {
   "cell_type": "code",
   "execution_count": 8,
   "id": "b7da7132",
   "metadata": {},
   "outputs": [
    {
     "data": {
      "application/vnd.microsoft.datawrangler.viewer.v0+json": {
       "columns": [
        {
         "name": "index",
         "rawType": "int64",
         "type": "integer"
        },
        {
         "name": "GEO_ID",
         "rawType": "object",
         "type": "string"
        },
        {
         "name": "STATE",
         "rawType": "int64",
         "type": "integer"
        },
        {
         "name": "COUNTY",
         "rawType": "int64",
         "type": "integer"
        },
        {
         "name": "TRACT",
         "rawType": "object",
         "type": "string"
        },
        {
         "name": "NAME",
         "rawType": "object",
         "type": "string"
        },
        {
         "name": "GEO_LEVEL",
         "rawType": "object",
         "type": "string"
        },
        {
         "name": "WATER_TRACT",
         "rawType": "float64",
         "type": "float"
        },
        {
         "name": "POPUNI",
         "rawType": "int64",
         "type": "integer"
        },
        {
         "name": "PRED0_E",
         "rawType": "int64",
         "type": "integer"
        },
        {
         "name": "PRED0_M",
         "rawType": "int64",
         "type": "integer"
        },
        {
         "name": "PRED0_PE",
         "rawType": "float64",
         "type": "float"
        },
        {
         "name": "PRED0_PM",
         "rawType": "float64",
         "type": "float"
        },
        {
         "name": "PRED12_E",
         "rawType": "int64",
         "type": "integer"
        },
        {
         "name": "PRED12_M",
         "rawType": "int64",
         "type": "integer"
        },
        {
         "name": "PRED12_PE",
         "rawType": "float64",
         "type": "float"
        },
        {
         "name": "PRED12_PM",
         "rawType": "float64",
         "type": "float"
        },
        {
         "name": "PRED3_E",
         "rawType": "int64",
         "type": "integer"
        },
        {
         "name": "PRED3_M",
         "rawType": "int64",
         "type": "integer"
        },
        {
         "name": "PRED3_PE",
         "rawType": "float64",
         "type": "float"
        },
        {
         "name": "PRED3_PM",
         "rawType": "float64",
         "type": "float"
        }
       ],
       "ref": "abd91685-fa1a-442f-bdaf-84cb1f4d31e4",
       "rows": [
        [
         "84415",
         "0500000US01001",
         "1",
         "1",
         "0",
         "Autauga County, Alabama",
         "County",
         null,
         "60183",
         "23534",
         "2790",
         "39.1",
         "4.64",
         "24255",
         "2851",
         "40.3",
         "4.74",
         "12394",
         "2306",
         "20.59",
         "3.83"
        ],
        [
         "84416",
         "0500000US01003",
         "1",
         "3",
         "0",
         "Baldwin County, Alabama",
         "County",
         null,
         "251949",
         "91386",
         "7887",
         "36.27",
         "3.13",
         "107840",
         "8199",
         "42.8",
         "3.25",
         "52723",
         "6888",
         "20.93",
         "2.73"
        ],
        [
         "84417",
         "0500000US01005",
         "1",
         "5",
         "0",
         "Barbour County, Alabama",
         "County",
         null,
         "22085",
         "4988",
         "1080",
         "22.59",
         "4.89",
         "9758",
         "1204",
         "44.18",
         "5.45",
         "7339",
         "1123",
         "33.23",
         "5.08"
        ],
        [
         "84418",
         "0500000US01007",
         "1",
         "7",
         "0",
         "Bibb County, Alabama",
         "County",
         null,
         "20223",
         "6880",
         "1051",
         "34.02",
         "5.2",
         "8050",
         "1109",
         "39.81",
         "5.48",
         "5293",
         "967",
         "26.17",
         "4.78"
        ],
        [
         "84419",
         "0500000US01009",
         "1",
         "9",
         "0",
         "Blount County, Alabama",
         "County",
         null,
         "59729",
         "18973",
         "2245",
         "31.77",
         "3.76",
         "26090",
         "2367",
         "43.68",
         "3.96",
         "14666",
         "2036",
         "24.55",
         "3.41"
        ]
       ],
       "shape": {
        "columns": 20,
        "rows": 5
       }
      },
      "text/html": [
       "<div>\n",
       "<style scoped>\n",
       "    .dataframe tbody tr th:only-of-type {\n",
       "        vertical-align: middle;\n",
       "    }\n",
       "\n",
       "    .dataframe tbody tr th {\n",
       "        vertical-align: top;\n",
       "    }\n",
       "\n",
       "    .dataframe thead th {\n",
       "        text-align: right;\n",
       "    }\n",
       "</style>\n",
       "<table border=\"1\" class=\"dataframe\">\n",
       "  <thead>\n",
       "    <tr style=\"text-align: right;\">\n",
       "      <th></th>\n",
       "      <th>GEO_ID</th>\n",
       "      <th>STATE</th>\n",
       "      <th>COUNTY</th>\n",
       "      <th>TRACT</th>\n",
       "      <th>NAME</th>\n",
       "      <th>GEO_LEVEL</th>\n",
       "      <th>WATER_TRACT</th>\n",
       "      <th>POPUNI</th>\n",
       "      <th>PRED0_E</th>\n",
       "      <th>PRED0_M</th>\n",
       "      <th>PRED0_PE</th>\n",
       "      <th>PRED0_PM</th>\n",
       "      <th>PRED12_E</th>\n",
       "      <th>PRED12_M</th>\n",
       "      <th>PRED12_PE</th>\n",
       "      <th>PRED12_PM</th>\n",
       "      <th>PRED3_E</th>\n",
       "      <th>PRED3_M</th>\n",
       "      <th>PRED3_PE</th>\n",
       "      <th>PRED3_PM</th>\n",
       "    </tr>\n",
       "  </thead>\n",
       "  <tbody>\n",
       "    <tr>\n",
       "      <th>84415</th>\n",
       "      <td>0500000US01001</td>\n",
       "      <td>1</td>\n",
       "      <td>1</td>\n",
       "      <td>0</td>\n",
       "      <td>Autauga County, Alabama</td>\n",
       "      <td>County</td>\n",
       "      <td>NaN</td>\n",
       "      <td>60183</td>\n",
       "      <td>23534</td>\n",
       "      <td>2790</td>\n",
       "      <td>39.10</td>\n",
       "      <td>4.64</td>\n",
       "      <td>24255</td>\n",
       "      <td>2851</td>\n",
       "      <td>40.30</td>\n",
       "      <td>4.74</td>\n",
       "      <td>12394</td>\n",
       "      <td>2306</td>\n",
       "      <td>20.59</td>\n",
       "      <td>3.83</td>\n",
       "    </tr>\n",
       "    <tr>\n",
       "      <th>84416</th>\n",
       "      <td>0500000US01003</td>\n",
       "      <td>1</td>\n",
       "      <td>3</td>\n",
       "      <td>0</td>\n",
       "      <td>Baldwin County, Alabama</td>\n",
       "      <td>County</td>\n",
       "      <td>NaN</td>\n",
       "      <td>251949</td>\n",
       "      <td>91386</td>\n",
       "      <td>7887</td>\n",
       "      <td>36.27</td>\n",
       "      <td>3.13</td>\n",
       "      <td>107840</td>\n",
       "      <td>8199</td>\n",
       "      <td>42.80</td>\n",
       "      <td>3.25</td>\n",
       "      <td>52723</td>\n",
       "      <td>6888</td>\n",
       "      <td>20.93</td>\n",
       "      <td>2.73</td>\n",
       "    </tr>\n",
       "    <tr>\n",
       "      <th>84417</th>\n",
       "      <td>0500000US01005</td>\n",
       "      <td>1</td>\n",
       "      <td>5</td>\n",
       "      <td>0</td>\n",
       "      <td>Barbour County, Alabama</td>\n",
       "      <td>County</td>\n",
       "      <td>NaN</td>\n",
       "      <td>22085</td>\n",
       "      <td>4988</td>\n",
       "      <td>1080</td>\n",
       "      <td>22.59</td>\n",
       "      <td>4.89</td>\n",
       "      <td>9758</td>\n",
       "      <td>1204</td>\n",
       "      <td>44.18</td>\n",
       "      <td>5.45</td>\n",
       "      <td>7339</td>\n",
       "      <td>1123</td>\n",
       "      <td>33.23</td>\n",
       "      <td>5.08</td>\n",
       "    </tr>\n",
       "    <tr>\n",
       "      <th>84418</th>\n",
       "      <td>0500000US01007</td>\n",
       "      <td>1</td>\n",
       "      <td>7</td>\n",
       "      <td>0</td>\n",
       "      <td>Bibb County, Alabama</td>\n",
       "      <td>County</td>\n",
       "      <td>NaN</td>\n",
       "      <td>20223</td>\n",
       "      <td>6880</td>\n",
       "      <td>1051</td>\n",
       "      <td>34.02</td>\n",
       "      <td>5.20</td>\n",
       "      <td>8050</td>\n",
       "      <td>1109</td>\n",
       "      <td>39.81</td>\n",
       "      <td>5.48</td>\n",
       "      <td>5293</td>\n",
       "      <td>967</td>\n",
       "      <td>26.17</td>\n",
       "      <td>4.78</td>\n",
       "    </tr>\n",
       "    <tr>\n",
       "      <th>84419</th>\n",
       "      <td>0500000US01009</td>\n",
       "      <td>1</td>\n",
       "      <td>9</td>\n",
       "      <td>0</td>\n",
       "      <td>Blount County, Alabama</td>\n",
       "      <td>County</td>\n",
       "      <td>NaN</td>\n",
       "      <td>59729</td>\n",
       "      <td>18973</td>\n",
       "      <td>2245</td>\n",
       "      <td>31.77</td>\n",
       "      <td>3.76</td>\n",
       "      <td>26090</td>\n",
       "      <td>2367</td>\n",
       "      <td>43.68</td>\n",
       "      <td>3.96</td>\n",
       "      <td>14666</td>\n",
       "      <td>2036</td>\n",
       "      <td>24.55</td>\n",
       "      <td>3.41</td>\n",
       "    </tr>\n",
       "  </tbody>\n",
       "</table>\n",
       "</div>"
      ],
      "text/plain": [
       "               GEO_ID  STATE  COUNTY TRACT                     NAME GEO_LEVEL  \\\n",
       "84415  0500000US01001      1       1     0  Autauga County, Alabama    County   \n",
       "84416  0500000US01003      1       3     0  Baldwin County, Alabama    County   \n",
       "84417  0500000US01005      1       5     0  Barbour County, Alabama    County   \n",
       "84418  0500000US01007      1       7     0     Bibb County, Alabama    County   \n",
       "84419  0500000US01009      1       9     0   Blount County, Alabama    County   \n",
       "\n",
       "       WATER_TRACT  POPUNI  PRED0_E  PRED0_M  PRED0_PE  PRED0_PM  PRED12_E  \\\n",
       "84415          NaN   60183    23534     2790     39.10      4.64     24255   \n",
       "84416          NaN  251949    91386     7887     36.27      3.13    107840   \n",
       "84417          NaN   22085     4988     1080     22.59      4.89      9758   \n",
       "84418          NaN   20223     6880     1051     34.02      5.20      8050   \n",
       "84419          NaN   59729    18973     2245     31.77      3.76     26090   \n",
       "\n",
       "       PRED12_M  PRED12_PE  PRED12_PM  PRED3_E  PRED3_M  PRED3_PE  PRED3_PM  \n",
       "84415      2851      40.30       4.74    12394     2306     20.59      3.83  \n",
       "84416      8199      42.80       3.25    52723     6888     20.93      2.73  \n",
       "84417      1204      44.18       5.45     7339     1123     33.23      5.08  \n",
       "84418      1109      39.81       5.48     5293      967     26.17      4.78  \n",
       "84419      2367      43.68       3.96    14666     2036     24.55      3.41  "
      ]
     },
     "execution_count": 8,
     "metadata": {},
     "output_type": "execute_result"
    }
   ],
   "source": [
    "df[df['GEO_LEVEL'] == 'County'].head()"
   ]
  },
  {
   "cell_type": "code",
   "execution_count": 9,
   "id": "07c736d9",
   "metadata": {},
   "outputs": [
    {
     "data": {
      "application/vnd.microsoft.datawrangler.viewer.v0+json": {
       "columns": [
        {
         "name": "index",
         "rawType": "int64",
         "type": "integer"
        },
        {
         "name": "GEO_ID",
         "rawType": "object",
         "type": "string"
        },
        {
         "name": "STATE",
         "rawType": "int64",
         "type": "integer"
        },
        {
         "name": "COUNTY",
         "rawType": "int64",
         "type": "integer"
        },
        {
         "name": "TRACT",
         "rawType": "object",
         "type": "string"
        },
        {
         "name": "NAME",
         "rawType": "object",
         "type": "string"
        },
        {
         "name": "GEO_LEVEL",
         "rawType": "object",
         "type": "string"
        },
        {
         "name": "WATER_TRACT",
         "rawType": "float64",
         "type": "float"
        },
        {
         "name": "POPUNI",
         "rawType": "int64",
         "type": "integer"
        },
        {
         "name": "PRED0_E",
         "rawType": "int64",
         "type": "integer"
        },
        {
         "name": "PRED0_M",
         "rawType": "int64",
         "type": "integer"
        },
        {
         "name": "PRED0_PE",
         "rawType": "float64",
         "type": "float"
        },
        {
         "name": "PRED0_PM",
         "rawType": "float64",
         "type": "float"
        },
        {
         "name": "PRED12_E",
         "rawType": "int64",
         "type": "integer"
        },
        {
         "name": "PRED12_M",
         "rawType": "int64",
         "type": "integer"
        },
        {
         "name": "PRED12_PE",
         "rawType": "float64",
         "type": "float"
        },
        {
         "name": "PRED12_PM",
         "rawType": "float64",
         "type": "float"
        },
        {
         "name": "PRED3_E",
         "rawType": "int64",
         "type": "integer"
        },
        {
         "name": "PRED3_M",
         "rawType": "int64",
         "type": "integer"
        },
        {
         "name": "PRED3_PE",
         "rawType": "float64",
         "type": "float"
        },
        {
         "name": "PRED3_PM",
         "rawType": "float64",
         "type": "float"
        },
        {
         "name": "County_fips",
         "rawType": "object",
         "type": "string"
        }
       ],
       "ref": "e483da8e-a0c9-4a2c-bbad-8157d5370b53",
       "rows": [
        [
         "0",
         "0500000US01001",
         "1",
         "1",
         "0",
         "Autauga County, Alabama",
         "County",
         null,
         "60183",
         "23534",
         "2790",
         "39.1",
         "4.64",
         "24255",
         "2851",
         "40.3",
         "4.74",
         "12394",
         "2306",
         "20.59",
         "3.83",
         "01001"
        ],
        [
         "1",
         "0500000US01003",
         "1",
         "3",
         "0",
         "Baldwin County, Alabama",
         "County",
         null,
         "251949",
         "91386",
         "7887",
         "36.27",
         "3.13",
         "107840",
         "8199",
         "42.8",
         "3.25",
         "52723",
         "6888",
         "20.93",
         "2.73",
         "01003"
        ],
        [
         "2",
         "0500000US01005",
         "1",
         "5",
         "0",
         "Barbour County, Alabama",
         "County",
         null,
         "22085",
         "4988",
         "1080",
         "22.59",
         "4.89",
         "9758",
         "1204",
         "44.18",
         "5.45",
         "7339",
         "1123",
         "33.23",
         "5.08",
         "01005"
        ],
        [
         "3",
         "0500000US01007",
         "1",
         "7",
         "0",
         "Bibb County, Alabama",
         "County",
         null,
         "20223",
         "6880",
         "1051",
         "34.02",
         "5.2",
         "8050",
         "1109",
         "39.81",
         "5.48",
         "5293",
         "967",
         "26.17",
         "4.78",
         "01007"
        ],
        [
         "4",
         "0500000US01009",
         "1",
         "9",
         "0",
         "Blount County, Alabama",
         "County",
         null,
         "59729",
         "18973",
         "2245",
         "31.77",
         "3.76",
         "26090",
         "2367",
         "43.68",
         "3.96",
         "14666",
         "2036",
         "24.55",
         "3.41",
         "01009"
        ]
       ],
       "shape": {
        "columns": 21,
        "rows": 5
       }
      },
      "text/html": [
       "<div>\n",
       "<style scoped>\n",
       "    .dataframe tbody tr th:only-of-type {\n",
       "        vertical-align: middle;\n",
       "    }\n",
       "\n",
       "    .dataframe tbody tr th {\n",
       "        vertical-align: top;\n",
       "    }\n",
       "\n",
       "    .dataframe thead th {\n",
       "        text-align: right;\n",
       "    }\n",
       "</style>\n",
       "<table border=\"1\" class=\"dataframe\">\n",
       "  <thead>\n",
       "    <tr style=\"text-align: right;\">\n",
       "      <th></th>\n",
       "      <th>GEO_ID</th>\n",
       "      <th>STATE</th>\n",
       "      <th>COUNTY</th>\n",
       "      <th>TRACT</th>\n",
       "      <th>NAME</th>\n",
       "      <th>GEO_LEVEL</th>\n",
       "      <th>WATER_TRACT</th>\n",
       "      <th>POPUNI</th>\n",
       "      <th>PRED0_E</th>\n",
       "      <th>PRED0_M</th>\n",
       "      <th>...</th>\n",
       "      <th>PRED0_PM</th>\n",
       "      <th>PRED12_E</th>\n",
       "      <th>PRED12_M</th>\n",
       "      <th>PRED12_PE</th>\n",
       "      <th>PRED12_PM</th>\n",
       "      <th>PRED3_E</th>\n",
       "      <th>PRED3_M</th>\n",
       "      <th>PRED3_PE</th>\n",
       "      <th>PRED3_PM</th>\n",
       "      <th>County_fips</th>\n",
       "    </tr>\n",
       "  </thead>\n",
       "  <tbody>\n",
       "    <tr>\n",
       "      <th>0</th>\n",
       "      <td>0500000US01001</td>\n",
       "      <td>1</td>\n",
       "      <td>1</td>\n",
       "      <td>0</td>\n",
       "      <td>Autauga County, Alabama</td>\n",
       "      <td>County</td>\n",
       "      <td>NaN</td>\n",
       "      <td>60183</td>\n",
       "      <td>23534</td>\n",
       "      <td>2790</td>\n",
       "      <td>...</td>\n",
       "      <td>4.64</td>\n",
       "      <td>24255</td>\n",
       "      <td>2851</td>\n",
       "      <td>40.30</td>\n",
       "      <td>4.74</td>\n",
       "      <td>12394</td>\n",
       "      <td>2306</td>\n",
       "      <td>20.59</td>\n",
       "      <td>3.83</td>\n",
       "      <td>01001</td>\n",
       "    </tr>\n",
       "    <tr>\n",
       "      <th>1</th>\n",
       "      <td>0500000US01003</td>\n",
       "      <td>1</td>\n",
       "      <td>3</td>\n",
       "      <td>0</td>\n",
       "      <td>Baldwin County, Alabama</td>\n",
       "      <td>County</td>\n",
       "      <td>NaN</td>\n",
       "      <td>251949</td>\n",
       "      <td>91386</td>\n",
       "      <td>7887</td>\n",
       "      <td>...</td>\n",
       "      <td>3.13</td>\n",
       "      <td>107840</td>\n",
       "      <td>8199</td>\n",
       "      <td>42.80</td>\n",
       "      <td>3.25</td>\n",
       "      <td>52723</td>\n",
       "      <td>6888</td>\n",
       "      <td>20.93</td>\n",
       "      <td>2.73</td>\n",
       "      <td>01003</td>\n",
       "    </tr>\n",
       "    <tr>\n",
       "      <th>2</th>\n",
       "      <td>0500000US01005</td>\n",
       "      <td>1</td>\n",
       "      <td>5</td>\n",
       "      <td>0</td>\n",
       "      <td>Barbour County, Alabama</td>\n",
       "      <td>County</td>\n",
       "      <td>NaN</td>\n",
       "      <td>22085</td>\n",
       "      <td>4988</td>\n",
       "      <td>1080</td>\n",
       "      <td>...</td>\n",
       "      <td>4.89</td>\n",
       "      <td>9758</td>\n",
       "      <td>1204</td>\n",
       "      <td>44.18</td>\n",
       "      <td>5.45</td>\n",
       "      <td>7339</td>\n",
       "      <td>1123</td>\n",
       "      <td>33.23</td>\n",
       "      <td>5.08</td>\n",
       "      <td>01005</td>\n",
       "    </tr>\n",
       "    <tr>\n",
       "      <th>3</th>\n",
       "      <td>0500000US01007</td>\n",
       "      <td>1</td>\n",
       "      <td>7</td>\n",
       "      <td>0</td>\n",
       "      <td>Bibb County, Alabama</td>\n",
       "      <td>County</td>\n",
       "      <td>NaN</td>\n",
       "      <td>20223</td>\n",
       "      <td>6880</td>\n",
       "      <td>1051</td>\n",
       "      <td>...</td>\n",
       "      <td>5.20</td>\n",
       "      <td>8050</td>\n",
       "      <td>1109</td>\n",
       "      <td>39.81</td>\n",
       "      <td>5.48</td>\n",
       "      <td>5293</td>\n",
       "      <td>967</td>\n",
       "      <td>26.17</td>\n",
       "      <td>4.78</td>\n",
       "      <td>01007</td>\n",
       "    </tr>\n",
       "    <tr>\n",
       "      <th>4</th>\n",
       "      <td>0500000US01009</td>\n",
       "      <td>1</td>\n",
       "      <td>9</td>\n",
       "      <td>0</td>\n",
       "      <td>Blount County, Alabama</td>\n",
       "      <td>County</td>\n",
       "      <td>NaN</td>\n",
       "      <td>59729</td>\n",
       "      <td>18973</td>\n",
       "      <td>2245</td>\n",
       "      <td>...</td>\n",
       "      <td>3.76</td>\n",
       "      <td>26090</td>\n",
       "      <td>2367</td>\n",
       "      <td>43.68</td>\n",
       "      <td>3.96</td>\n",
       "      <td>14666</td>\n",
       "      <td>2036</td>\n",
       "      <td>24.55</td>\n",
       "      <td>3.41</td>\n",
       "      <td>01009</td>\n",
       "    </tr>\n",
       "  </tbody>\n",
       "</table>\n",
       "<p>5 rows × 21 columns</p>\n",
       "</div>"
      ],
      "text/plain": [
       "           GEO_ID  STATE  COUNTY TRACT                     NAME GEO_LEVEL  \\\n",
       "0  0500000US01001      1       1     0  Autauga County, Alabama    County   \n",
       "1  0500000US01003      1       3     0  Baldwin County, Alabama    County   \n",
       "2  0500000US01005      1       5     0  Barbour County, Alabama    County   \n",
       "3  0500000US01007      1       7     0     Bibb County, Alabama    County   \n",
       "4  0500000US01009      1       9     0   Blount County, Alabama    County   \n",
       "\n",
       "   WATER_TRACT  POPUNI  PRED0_E  PRED0_M  ...  PRED0_PM  PRED12_E  PRED12_M  \\\n",
       "0          NaN   60183    23534     2790  ...      4.64     24255      2851   \n",
       "1          NaN  251949    91386     7887  ...      3.13    107840      8199   \n",
       "2          NaN   22085     4988     1080  ...      4.89      9758      1204   \n",
       "3          NaN   20223     6880     1051  ...      5.20      8050      1109   \n",
       "4          NaN   59729    18973     2245  ...      3.76     26090      2367   \n",
       "\n",
       "   PRED12_PE  PRED12_PM  PRED3_E  PRED3_M  PRED3_PE  PRED3_PM  County_fips  \n",
       "0      40.30       4.74    12394     2306     20.59      3.83        01001  \n",
       "1      42.80       3.25    52723     6888     20.93      2.73        01003  \n",
       "2      44.18       5.45     7339     1123     33.23      5.08        01005  \n",
       "3      39.81       5.48     5293      967     26.17      4.78        01007  \n",
       "4      43.68       3.96    14666     2036     24.55      3.41        01009  \n",
       "\n",
       "[5 rows x 21 columns]"
      ]
     },
     "execution_count": 9,
     "metadata": {},
     "output_type": "execute_result"
    }
   ],
   "source": [
    "# Looking at the data there are missing leading 0 in the TRACT field, instead of concatonating\n",
    "# filter so only GEO_LEVEL == 'County' remain and strip everything except the last 5 digits from GEO_ID\n",
    "# into a new column County_fips\n",
    "df = df.copy()\n",
    "df = df[df['GEO_LEVEL'] == 'County']\n",
    "df = df.reset_index(drop=True)\n",
    "df['County_fips'] = df['GEO_ID'].str[-5:]\n",
    "df.head()\n"
   ]
  },
  {
   "cell_type": "code",
   "execution_count": 10,
   "id": "0ce402a1",
   "metadata": {},
   "outputs": [
    {
     "data": {
      "application/vnd.microsoft.datawrangler.viewer.v0+json": {
       "columns": [
        {
         "name": "index",
         "rawType": "int64",
         "type": "integer"
        },
        {
         "name": "County_fips",
         "rawType": "object",
         "type": "string"
        },
        {
         "name": "GEO_ID",
         "rawType": "object",
         "type": "string"
        },
        {
         "name": "GEO_LEVEL",
         "rawType": "object",
         "type": "string"
        },
        {
         "name": "WATER_TRACT",
         "rawType": "float64",
         "type": "float"
        },
        {
         "name": "POPUNI",
         "rawType": "int64",
         "type": "integer"
        },
        {
         "name": "PRED12_PE",
         "rawType": "float64",
         "type": "float"
        },
        {
         "name": "PRED3_PE",
         "rawType": "float64",
         "type": "float"
        }
       ],
       "ref": "36016eb4-f416-44af-ac97-407085abc4ba",
       "rows": [
        [
         "0",
         "01001",
         "0500000US01001",
         "County",
         null,
         "60183",
         "40.3",
         "20.59"
        ],
        [
         "1",
         "01003",
         "0500000US01003",
         "County",
         null,
         "251949",
         "42.8",
         "20.93"
        ],
        [
         "2",
         "01005",
         "0500000US01005",
         "County",
         null,
         "22085",
         "44.18",
         "33.23"
        ],
        [
         "3",
         "01007",
         "0500000US01007",
         "County",
         null,
         "20223",
         "39.81",
         "26.17"
        ],
        [
         "4",
         "01009",
         "0500000US01009",
         "County",
         null,
         "59729",
         "43.68",
         "24.55"
        ]
       ],
       "shape": {
        "columns": 7,
        "rows": 5
       }
      },
      "text/html": [
       "<div>\n",
       "<style scoped>\n",
       "    .dataframe tbody tr th:only-of-type {\n",
       "        vertical-align: middle;\n",
       "    }\n",
       "\n",
       "    .dataframe tbody tr th {\n",
       "        vertical-align: top;\n",
       "    }\n",
       "\n",
       "    .dataframe thead th {\n",
       "        text-align: right;\n",
       "    }\n",
       "</style>\n",
       "<table border=\"1\" class=\"dataframe\">\n",
       "  <thead>\n",
       "    <tr style=\"text-align: right;\">\n",
       "      <th></th>\n",
       "      <th>County_fips</th>\n",
       "      <th>GEO_ID</th>\n",
       "      <th>GEO_LEVEL</th>\n",
       "      <th>WATER_TRACT</th>\n",
       "      <th>POPUNI</th>\n",
       "      <th>PRED12_PE</th>\n",
       "      <th>PRED3_PE</th>\n",
       "    </tr>\n",
       "  </thead>\n",
       "  <tbody>\n",
       "    <tr>\n",
       "      <th>0</th>\n",
       "      <td>01001</td>\n",
       "      <td>0500000US01001</td>\n",
       "      <td>County</td>\n",
       "      <td>NaN</td>\n",
       "      <td>60183</td>\n",
       "      <td>40.30</td>\n",
       "      <td>20.59</td>\n",
       "    </tr>\n",
       "    <tr>\n",
       "      <th>1</th>\n",
       "      <td>01003</td>\n",
       "      <td>0500000US01003</td>\n",
       "      <td>County</td>\n",
       "      <td>NaN</td>\n",
       "      <td>251949</td>\n",
       "      <td>42.80</td>\n",
       "      <td>20.93</td>\n",
       "    </tr>\n",
       "    <tr>\n",
       "      <th>2</th>\n",
       "      <td>01005</td>\n",
       "      <td>0500000US01005</td>\n",
       "      <td>County</td>\n",
       "      <td>NaN</td>\n",
       "      <td>22085</td>\n",
       "      <td>44.18</td>\n",
       "      <td>33.23</td>\n",
       "    </tr>\n",
       "    <tr>\n",
       "      <th>3</th>\n",
       "      <td>01007</td>\n",
       "      <td>0500000US01007</td>\n",
       "      <td>County</td>\n",
       "      <td>NaN</td>\n",
       "      <td>20223</td>\n",
       "      <td>39.81</td>\n",
       "      <td>26.17</td>\n",
       "    </tr>\n",
       "    <tr>\n",
       "      <th>4</th>\n",
       "      <td>01009</td>\n",
       "      <td>0500000US01009</td>\n",
       "      <td>County</td>\n",
       "      <td>NaN</td>\n",
       "      <td>59729</td>\n",
       "      <td>43.68</td>\n",
       "      <td>24.55</td>\n",
       "    </tr>\n",
       "  </tbody>\n",
       "</table>\n",
       "</div>"
      ],
      "text/plain": [
       "  County_fips          GEO_ID GEO_LEVEL  WATER_TRACT  POPUNI  PRED12_PE  \\\n",
       "0       01001  0500000US01001    County          NaN   60183      40.30   \n",
       "1       01003  0500000US01003    County          NaN  251949      42.80   \n",
       "2       01005  0500000US01005    County          NaN   22085      44.18   \n",
       "3       01007  0500000US01007    County          NaN   20223      39.81   \n",
       "4       01009  0500000US01009    County          NaN   59729      43.68   \n",
       "\n",
       "   PRED3_PE  \n",
       "0     20.59  \n",
       "1     20.93  \n",
       "2     33.23  \n",
       "3     26.17  \n",
       "4     24.55  "
      ]
     },
     "execution_count": 10,
     "metadata": {},
     "output_type": "execute_result"
    }
   ],
   "source": [
    "'''\n",
    "Drop all columns except:\n",
    "- County_fips\n",
    "- GEO_ID\n",
    "- GEO_LEVEL\n",
    "- WATER_TRACT\n",
    "- POPUNI\n",
    "- PRED12_PE\n",
    "- PRED3_PE\n",
    "'''\n",
    "df = df[['County_fips', 'GEO_ID', 'GEO_LEVEL', 'WATER_TRACT', 'POPUNI', 'PRED12_PE', 'PRED3_PE']]\n",
    "df.head()"
   ]
  },
  {
   "cell_type": "code",
   "execution_count": 11,
   "id": "739c034b",
   "metadata": {},
   "outputs": [
    {
     "name": "stdout",
     "output_type": "stream",
     "text": [
      "<class 'pandas.core.frame.DataFrame'>\n",
      "RangeIndex: 3144 entries, 0 to 3143\n",
      "Data columns (total 7 columns):\n",
      " #   Column       Non-Null Count  Dtype  \n",
      "---  ------       --------------  -----  \n",
      " 0   County_fips  3144 non-null   object \n",
      " 1   GEO_ID       3144 non-null   object \n",
      " 2   GEO_LEVEL    3144 non-null   object \n",
      " 3   WATER_TRACT  0 non-null      float64\n",
      " 4   POPUNI       3144 non-null   int64  \n",
      " 5   PRED12_PE    3144 non-null   float64\n",
      " 6   PRED3_PE     3144 non-null   float64\n",
      "dtypes: float64(3), int64(1), object(3)\n",
      "memory usage: 172.1+ KB\n"
     ]
    }
   ],
   "source": [
    "# Check memory usage and col types\n",
    "df.info()"
   ]
  },
  {
   "cell_type": "code",
   "execution_count": null,
   "id": "fe21b187",
   "metadata": {},
   "outputs": [
    {
     "name": "stdout",
     "output_type": "stream",
     "text": [
      "Created SQLAlchemy engine for disaster_db"
     ]
    },
    {
     "name": "stdout",
     "output_type": "stream",
     "text": [
      "\n",
      "Data loaded successfully into census_resilience\n"
     ]
    }
   ],
   "source": [
    "# load to db\n",
    "if REBUILD:\n",
    "    dbt.load_data(df, 'census_resilience', if_exists='replace')\n",
    "else: \n",
    "    print(\"rebuild skipped\")"
   ]
  }
 ],
 "metadata": {
  "kernelspec": {
   "display_name": "Python 3",
   "language": "python",
   "name": "python3"
  },
  "language_info": {
   "codemirror_mode": {
    "name": "ipython",
    "version": 3
   },
   "file_extension": ".py",
   "mimetype": "text/x-python",
   "name": "python",
   "nbconvert_exporter": "python",
   "pygments_lexer": "ipython3",
   "version": "3.13.1"
  }
 },
 "nbformat": 4,
 "nbformat_minor": 5
}
