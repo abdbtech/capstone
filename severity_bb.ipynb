{
 "cells": [
  {
   "cell_type": "markdown",
   "id": "7b032dc7",
   "metadata": {},
   "source": [
    "# Severity component "
   ]
  },
  {
   "cell_type": "code",
   "execution_count": 22,
   "id": "3cd2a772",
   "metadata": {},
   "outputs": [],
   "source": [
    "# import libraries\n",
    "# NOTE: global_vars should be edited to include local paths and credentials before use.\n",
    "import ignore.global_vars as gv\n",
    "import db_tools as dbt\n",
    "import pandas as pd\n",
    "import sqlalchemy\n",
    "import sys\n",
    "from IPython.display import display, HTML\n",
    "from scipy import stats\n",
    "from scipy.stats import poisson, nbinom, weibull_min, gamma\n",
    "import numpy as np\n",
    "import matplotlib.pyplot as plt\n",
    "import seaborn as sns\n",
    "import geopandas as gpd\n",
    "from matplotlib.colors import LinearSegmentedColormap\n",
    "import plotly.express as px\n",
    "import plotly.graph_objects as go\n",
    "from shapely import wkt\n",
    "import os\n"
   ]
  },
  {
   "cell_type": "code",
   "execution_count": 10,
   "id": "14bce45b",
   "metadata": {},
   "outputs": [
    {
     "name": "stdout",
     "output_type": "stream",
     "text": [
      "Created SQLAlchemy engine for disaster_db\n",
      "Query executed successfully, returned 12 rows\n",
      "                             table_name\n",
      "0                     census_resilience\n",
      "1                     geography_columns\n",
      "2                      geometry_columns\n",
      "3                       spatial_ref_sys\n",
      "4              POISSON_FREQUENCY_PARAMS\n",
      "5               nri_shape_census_tracts\n",
      "6                 disaster_risk_spatial\n",
      "7              noaa_stormevents_ftp_all\n",
      "8                   NOAA_STORM_EPISODES\n",
      "9        disaster_risk_counties_spatial\n",
      "10  disaster_risk_counties_event_counts\n",
      "11                    NOAA_STORM_EVENTS\n"
     ]
    }
   ],
   "source": [
    "# open connection and get table names\n",
    "table_names = dbt.query(\n",
    "    \"SELECT table_name FROM information_schema.tables WHERE table_schema='public'\"\n",
    ")\n",
    "print(table_names)\n"
   ]
  },
  {
   "cell_type": "code",
   "execution_count": 11,
   "id": "4cfbbd80",
   "metadata": {},
   "outputs": [
    {
     "name": "stdout",
     "output_type": "stream",
     "text": [
      "Created SQLAlchemy engine for disaster_db\n",
      "Query executed successfully, returned 107094 rows\n",
      "Created SQLAlchemy engine for disaster_db\n",
      "Query executed successfully, returned 1500308 rows\n",
      "Created SQLAlchemy engine for disaster_db\n",
      "Query executed successfully, returned 3144 rows\n"
     ]
    }
   ],
   "source": [
    "\n",
    "df_noaa_episodes = dbt.query('SELECT * FROM \"NOAA_STORM_EPISODES\"')\n",
    "df_noaa_events = dbt.query('SELECT * FROM \"NOAA_STORM_EVENTS\"')\n",
    "df_census = dbt.query('SELECT * FROM \"census_resilience\"')"
   ]
  },
  {
   "cell_type": "code",
   "execution_count": 12,
   "id": "bc8e1734",
   "metadata": {},
   "outputs": [
    {
     "data": {
      "application/vnd.microsoft.datawrangler.viewer.v0+json": {
       "columns": [
        {
         "name": "index",
         "rawType": "int64",
         "type": "integer"
        },
        {
         "name": "county_fips",
         "rawType": "object",
         "type": "string"
        },
        {
         "name": "year",
         "rawType": "int64",
         "type": "integer"
        },
        {
         "name": "event_count",
         "rawType": "int64",
         "type": "integer"
        },
        {
         "name": "total_deaths_direct",
         "rawType": "int64",
         "type": "integer"
        },
        {
         "name": "total_deaths_indirect",
         "rawType": "int64",
         "type": "integer"
        },
        {
         "name": "total_injuries_direct",
         "rawType": "int64",
         "type": "integer"
        },
        {
         "name": "total_injuries_indirect",
         "rawType": "int64",
         "type": "integer"
        },
        {
         "name": "event_types",
         "rawType": "object",
         "type": "string"
        },
        {
         "name": "first_event_date",
         "rawType": "datetime64[ns]",
         "type": "datetime"
        }
       ],
       "ref": "4047418f-09d8-4b4d-841a-8d1b6c0d4f21",
       "rows": [
        [
         "90543",
         "48145",
         "2010",
         "1",
         "0",
         "0",
         "0",
         "4",
         "Winter Weather",
         "2010-01-07 00:00:00"
        ],
        [
         "34157",
         "20049",
         "2018",
         "0",
         "0",
         "0",
         "0",
         "0",
         "",
         null
        ],
        [
         "43151",
         "24011",
         "2016",
         "1",
         "2",
         "0",
         "12",
         "0",
         "Winter Weather",
         "2016-12-17 00:00:00"
        ]
       ],
       "shape": {
        "columns": 9,
        "rows": 3
       }
      },
      "text/html": [
       "<div>\n",
       "<style scoped>\n",
       "    .dataframe tbody tr th:only-of-type {\n",
       "        vertical-align: middle;\n",
       "    }\n",
       "\n",
       "    .dataframe tbody tr th {\n",
       "        vertical-align: top;\n",
       "    }\n",
       "\n",
       "    .dataframe thead th {\n",
       "        text-align: right;\n",
       "    }\n",
       "</style>\n",
       "<table border=\"1\" class=\"dataframe\">\n",
       "  <thead>\n",
       "    <tr style=\"text-align: right;\">\n",
       "      <th></th>\n",
       "      <th>county_fips</th>\n",
       "      <th>year</th>\n",
       "      <th>event_count</th>\n",
       "      <th>total_deaths_direct</th>\n",
       "      <th>total_deaths_indirect</th>\n",
       "      <th>total_injuries_direct</th>\n",
       "      <th>total_injuries_indirect</th>\n",
       "      <th>event_types</th>\n",
       "      <th>first_event_date</th>\n",
       "    </tr>\n",
       "  </thead>\n",
       "  <tbody>\n",
       "    <tr>\n",
       "      <th>90543</th>\n",
       "      <td>48145</td>\n",
       "      <td>2010</td>\n",
       "      <td>1</td>\n",
       "      <td>0</td>\n",
       "      <td>0</td>\n",
       "      <td>0</td>\n",
       "      <td>4</td>\n",
       "      <td>Winter Weather</td>\n",
       "      <td>2010-01-07</td>\n",
       "    </tr>\n",
       "    <tr>\n",
       "      <th>34157</th>\n",
       "      <td>20049</td>\n",
       "      <td>2018</td>\n",
       "      <td>0</td>\n",
       "      <td>0</td>\n",
       "      <td>0</td>\n",
       "      <td>0</td>\n",
       "      <td>0</td>\n",
       "      <td></td>\n",
       "      <td>NaT</td>\n",
       "    </tr>\n",
       "    <tr>\n",
       "      <th>43151</th>\n",
       "      <td>24011</td>\n",
       "      <td>2016</td>\n",
       "      <td>1</td>\n",
       "      <td>2</td>\n",
       "      <td>0</td>\n",
       "      <td>12</td>\n",
       "      <td>0</td>\n",
       "      <td>Winter Weather</td>\n",
       "      <td>2016-12-17</td>\n",
       "    </tr>\n",
       "  </tbody>\n",
       "</table>\n",
       "</div>"
      ],
      "text/plain": [
       "      county_fips  year  event_count  total_deaths_direct  \\\n",
       "90543       48145  2010            1                    0   \n",
       "34157       20049  2018            0                    0   \n",
       "43151       24011  2016            1                    2   \n",
       "\n",
       "       total_deaths_indirect  total_injuries_direct  total_injuries_indirect  \\\n",
       "90543                      0                      0                        4   \n",
       "34157                      0                      0                        0   \n",
       "43151                      0                     12                        0   \n",
       "\n",
       "          event_types first_event_date  \n",
       "90543  Winter Weather       2010-01-07  \n",
       "34157                              NaT  \n",
       "43151  Winter Weather       2016-12-17  "
      ]
     },
     "execution_count": 12,
     "metadata": {},
     "output_type": "execute_result"
    }
   ],
   "source": [
    "df_noaa_episodes.sample(3)"
   ]
  },
  {
   "cell_type": "code",
   "execution_count": 15,
   "id": "eced8b2a",
   "metadata": {},
   "outputs": [
    {
     "data": {
      "application/vnd.microsoft.datawrangler.viewer.v0+json": {
       "columns": [
        {
         "name": "index",
         "rawType": "object",
         "type": "string"
        },
        {
         "name": "year",
         "rawType": "float64",
         "type": "float"
        },
        {
         "name": "event_count",
         "rawType": "float64",
         "type": "float"
        },
        {
         "name": "total_deaths_direct",
         "rawType": "float64",
         "type": "float"
        },
        {
         "name": "total_deaths_indirect",
         "rawType": "float64",
         "type": "float"
        },
        {
         "name": "total_injuries_direct",
         "rawType": "float64",
         "type": "float"
        },
        {
         "name": "total_injuries_indirect",
         "rawType": "float64",
         "type": "float"
        },
        {
         "name": "first_event_date",
         "rawType": "object",
         "type": "unknown"
        }
       ],
       "ref": "1ace7fd5-a3c8-4462-b2a8-22177507bb50",
       "rows": [
        [
         "count",
         "107094.0",
         "107094.0",
         "107094.0",
         "107094.0",
         "107094.0",
         "107094.0",
         "16249"
        ],
        [
         "mean",
         "2011.5",
         "0.20692102265299644",
         "0.1510915644200422",
         "0.03871365342596224",
         "0.6264403234541618",
         "0.1425756811772835",
         "2011-05-28 06:43:02.854329600"
        ],
        [
         "min",
         "1999.0",
         "0.0",
         "0.0",
         "0.0",
         "0.0",
         "0.0",
         "1999-01-01 00:00:00"
        ],
        [
         "25%",
         "2005.0",
         "0.0",
         "0.0",
         "0.0",
         "0.0",
         "0.0",
         "2005-07-23 00:00:00"
        ],
        [
         "50%",
         "2011.5",
         "0.0",
         "0.0",
         "0.0",
         "0.0",
         "0.0",
         "2011-01-25 00:00:00"
        ],
        [
         "75%",
         "2018.0",
         "0.0",
         "0.0",
         "0.0",
         "0.0",
         "0.0",
         "2017-06-18 00:00:00"
        ],
        [
         "max",
         "2024.0",
         "29.0",
         "638.0",
         "145.0",
         "1404.0",
         "2400.0",
         "2024-12-31 00:00:00"
        ],
        [
         "std",
         "7.5000350162125065",
         "0.6587319654903557",
         "2.733060850576573",
         "0.8220140096977168",
         "9.960642377240719",
         "7.830178871279356",
         null
        ]
       ],
       "shape": {
        "columns": 7,
        "rows": 8
       }
      },
      "text/html": [
       "<div>\n",
       "<style scoped>\n",
       "    .dataframe tbody tr th:only-of-type {\n",
       "        vertical-align: middle;\n",
       "    }\n",
       "\n",
       "    .dataframe tbody tr th {\n",
       "        vertical-align: top;\n",
       "    }\n",
       "\n",
       "    .dataframe thead th {\n",
       "        text-align: right;\n",
       "    }\n",
       "</style>\n",
       "<table border=\"1\" class=\"dataframe\">\n",
       "  <thead>\n",
       "    <tr style=\"text-align: right;\">\n",
       "      <th></th>\n",
       "      <th>year</th>\n",
       "      <th>event_count</th>\n",
       "      <th>total_deaths_direct</th>\n",
       "      <th>total_deaths_indirect</th>\n",
       "      <th>total_injuries_direct</th>\n",
       "      <th>total_injuries_indirect</th>\n",
       "      <th>first_event_date</th>\n",
       "    </tr>\n",
       "  </thead>\n",
       "  <tbody>\n",
       "    <tr>\n",
       "      <th>count</th>\n",
       "      <td>107094.000000</td>\n",
       "      <td>107094.000000</td>\n",
       "      <td>107094.000000</td>\n",
       "      <td>107094.000000</td>\n",
       "      <td>107094.000000</td>\n",
       "      <td>107094.000000</td>\n",
       "      <td>16249</td>\n",
       "    </tr>\n",
       "    <tr>\n",
       "      <th>mean</th>\n",
       "      <td>2011.500000</td>\n",
       "      <td>0.206921</td>\n",
       "      <td>0.151092</td>\n",
       "      <td>0.038714</td>\n",
       "      <td>0.626440</td>\n",
       "      <td>0.142576</td>\n",
       "      <td>2011-05-28 06:43:02.854329600</td>\n",
       "    </tr>\n",
       "    <tr>\n",
       "      <th>min</th>\n",
       "      <td>1999.000000</td>\n",
       "      <td>0.000000</td>\n",
       "      <td>0.000000</td>\n",
       "      <td>0.000000</td>\n",
       "      <td>0.000000</td>\n",
       "      <td>0.000000</td>\n",
       "      <td>1999-01-01 00:00:00</td>\n",
       "    </tr>\n",
       "    <tr>\n",
       "      <th>25%</th>\n",
       "      <td>2005.000000</td>\n",
       "      <td>0.000000</td>\n",
       "      <td>0.000000</td>\n",
       "      <td>0.000000</td>\n",
       "      <td>0.000000</td>\n",
       "      <td>0.000000</td>\n",
       "      <td>2005-07-23 00:00:00</td>\n",
       "    </tr>\n",
       "    <tr>\n",
       "      <th>50%</th>\n",
       "      <td>2011.500000</td>\n",
       "      <td>0.000000</td>\n",
       "      <td>0.000000</td>\n",
       "      <td>0.000000</td>\n",
       "      <td>0.000000</td>\n",
       "      <td>0.000000</td>\n",
       "      <td>2011-01-25 00:00:00</td>\n",
       "    </tr>\n",
       "    <tr>\n",
       "      <th>75%</th>\n",
       "      <td>2018.000000</td>\n",
       "      <td>0.000000</td>\n",
       "      <td>0.000000</td>\n",
       "      <td>0.000000</td>\n",
       "      <td>0.000000</td>\n",
       "      <td>0.000000</td>\n",
       "      <td>2017-06-18 00:00:00</td>\n",
       "    </tr>\n",
       "    <tr>\n",
       "      <th>max</th>\n",
       "      <td>2024.000000</td>\n",
       "      <td>29.000000</td>\n",
       "      <td>638.000000</td>\n",
       "      <td>145.000000</td>\n",
       "      <td>1404.000000</td>\n",
       "      <td>2400.000000</td>\n",
       "      <td>2024-12-31 00:00:00</td>\n",
       "    </tr>\n",
       "    <tr>\n",
       "      <th>std</th>\n",
       "      <td>7.500035</td>\n",
       "      <td>0.658732</td>\n",
       "      <td>2.733061</td>\n",
       "      <td>0.822014</td>\n",
       "      <td>9.960642</td>\n",
       "      <td>7.830179</td>\n",
       "      <td>NaN</td>\n",
       "    </tr>\n",
       "  </tbody>\n",
       "</table>\n",
       "</div>"
      ],
      "text/plain": [
       "                year    event_count  total_deaths_direct  \\\n",
       "count  107094.000000  107094.000000        107094.000000   \n",
       "mean     2011.500000       0.206921             0.151092   \n",
       "min      1999.000000       0.000000             0.000000   \n",
       "25%      2005.000000       0.000000             0.000000   \n",
       "50%      2011.500000       0.000000             0.000000   \n",
       "75%      2018.000000       0.000000             0.000000   \n",
       "max      2024.000000      29.000000           638.000000   \n",
       "std         7.500035       0.658732             2.733061   \n",
       "\n",
       "       total_deaths_indirect  total_injuries_direct  total_injuries_indirect  \\\n",
       "count          107094.000000          107094.000000            107094.000000   \n",
       "mean                0.038714               0.626440                 0.142576   \n",
       "min                 0.000000               0.000000                 0.000000   \n",
       "25%                 0.000000               0.000000                 0.000000   \n",
       "50%                 0.000000               0.000000                 0.000000   \n",
       "75%                 0.000000               0.000000                 0.000000   \n",
       "max               145.000000            1404.000000              2400.000000   \n",
       "std                 0.822014               9.960642                 7.830179   \n",
       "\n",
       "                    first_event_date  \n",
       "count                          16249  \n",
       "mean   2011-05-28 06:43:02.854329600  \n",
       "min              1999-01-01 00:00:00  \n",
       "25%              2005-07-23 00:00:00  \n",
       "50%              2011-01-25 00:00:00  \n",
       "75%              2017-06-18 00:00:00  \n",
       "max              2024-12-31 00:00:00  \n",
       "std                              NaN  "
      ]
     },
     "execution_count": 15,
     "metadata": {},
     "output_type": "execute_result"
    }
   ],
   "source": [
    "df_noaa_episodes.describe()"
   ]
  },
  {
   "cell_type": "code",
   "execution_count": 13,
   "id": "83a8accb",
   "metadata": {},
   "outputs": [
    {
     "data": {
      "application/vnd.microsoft.datawrangler.viewer.v0+json": {
       "columns": [
        {
         "name": "index",
         "rawType": "int64",
         "type": "integer"
        },
        {
         "name": "EPISODE_ID",
         "rawType": "int64",
         "type": "integer"
        },
        {
         "name": "EVENT_ID",
         "rawType": "int64",
         "type": "integer"
        },
        {
         "name": "EVENT_TYPE",
         "rawType": "object",
         "type": "string"
        },
        {
         "name": "CZ_FIPS",
         "rawType": "object",
         "type": "string"
        },
        {
         "name": "STATE_FIPS",
         "rawType": "object",
         "type": "string"
        },
        {
         "name": "INJURIES_DIRECT",
         "rawType": "int64",
         "type": "integer"
        },
        {
         "name": "INJURIES_INDIRECT",
         "rawType": "int64",
         "type": "integer"
        },
        {
         "name": "DEATHS_DIRECT",
         "rawType": "int64",
         "type": "integer"
        },
        {
         "name": "DEATHS_INDIRECT",
         "rawType": "int64",
         "type": "integer"
        },
        {
         "name": "DAMAGE_PROPERTY",
         "rawType": "object",
         "type": "unknown"
        },
        {
         "name": "DATE",
         "rawType": "datetime64[ns]",
         "type": "datetime"
        },
        {
         "name": "YEAR",
         "rawType": "int64",
         "type": "integer"
        },
        {
         "name": "CO_FIPS",
         "rawType": "object",
         "type": "string"
        }
       ],
       "ref": "84e69dd9-722a-49ec-a1fc-50211c249a12",
       "rows": [
        [
         "582825",
         "1501154",
         "5688512",
         "Winter Weather",
         "043",
         "26",
         "0",
         "0",
         "0",
         "0",
         null,
         "1999-02-05 00:00:00",
         "1999",
         "26043"
        ],
        [
         "926334",
         "1131601",
         "5280740",
         "Thunderstorm Wind",
         "137",
         "20",
         "0",
         "0",
         "0",
         "0",
         null,
         "2002-04-10 00:00:00",
         "2002",
         "20137"
        ],
        [
         "693085",
         "1093575",
         "5139755",
         "Thunderstorm Wind",
         "031",
         "31",
         "0",
         "0",
         "0",
         "0",
         "1K",
         "2000-04-19 00:00:00",
         "2000",
         "31031"
        ]
       ],
       "shape": {
        "columns": 13,
        "rows": 3
       }
      },
      "text/html": [
       "<div>\n",
       "<style scoped>\n",
       "    .dataframe tbody tr th:only-of-type {\n",
       "        vertical-align: middle;\n",
       "    }\n",
       "\n",
       "    .dataframe tbody tr th {\n",
       "        vertical-align: top;\n",
       "    }\n",
       "\n",
       "    .dataframe thead th {\n",
       "        text-align: right;\n",
       "    }\n",
       "</style>\n",
       "<table border=\"1\" class=\"dataframe\">\n",
       "  <thead>\n",
       "    <tr style=\"text-align: right;\">\n",
       "      <th></th>\n",
       "      <th>EPISODE_ID</th>\n",
       "      <th>EVENT_ID</th>\n",
       "      <th>EVENT_TYPE</th>\n",
       "      <th>CZ_FIPS</th>\n",
       "      <th>STATE_FIPS</th>\n",
       "      <th>INJURIES_DIRECT</th>\n",
       "      <th>INJURIES_INDIRECT</th>\n",
       "      <th>DEATHS_DIRECT</th>\n",
       "      <th>DEATHS_INDIRECT</th>\n",
       "      <th>DAMAGE_PROPERTY</th>\n",
       "      <th>DATE</th>\n",
       "      <th>YEAR</th>\n",
       "      <th>CO_FIPS</th>\n",
       "    </tr>\n",
       "  </thead>\n",
       "  <tbody>\n",
       "    <tr>\n",
       "      <th>582825</th>\n",
       "      <td>1501154</td>\n",
       "      <td>5688512</td>\n",
       "      <td>Winter Weather</td>\n",
       "      <td>043</td>\n",
       "      <td>26</td>\n",
       "      <td>0</td>\n",
       "      <td>0</td>\n",
       "      <td>0</td>\n",
       "      <td>0</td>\n",
       "      <td>None</td>\n",
       "      <td>1999-02-05</td>\n",
       "      <td>1999</td>\n",
       "      <td>26043</td>\n",
       "    </tr>\n",
       "    <tr>\n",
       "      <th>926334</th>\n",
       "      <td>1131601</td>\n",
       "      <td>5280740</td>\n",
       "      <td>Thunderstorm Wind</td>\n",
       "      <td>137</td>\n",
       "      <td>20</td>\n",
       "      <td>0</td>\n",
       "      <td>0</td>\n",
       "      <td>0</td>\n",
       "      <td>0</td>\n",
       "      <td>None</td>\n",
       "      <td>2002-04-10</td>\n",
       "      <td>2002</td>\n",
       "      <td>20137</td>\n",
       "    </tr>\n",
       "    <tr>\n",
       "      <th>693085</th>\n",
       "      <td>1093575</td>\n",
       "      <td>5139755</td>\n",
       "      <td>Thunderstorm Wind</td>\n",
       "      <td>031</td>\n",
       "      <td>31</td>\n",
       "      <td>0</td>\n",
       "      <td>0</td>\n",
       "      <td>0</td>\n",
       "      <td>0</td>\n",
       "      <td>1K</td>\n",
       "      <td>2000-04-19</td>\n",
       "      <td>2000</td>\n",
       "      <td>31031</td>\n",
       "    </tr>\n",
       "  </tbody>\n",
       "</table>\n",
       "</div>"
      ],
      "text/plain": [
       "        EPISODE_ID  EVENT_ID         EVENT_TYPE CZ_FIPS STATE_FIPS  \\\n",
       "582825     1501154   5688512     Winter Weather     043         26   \n",
       "926334     1131601   5280740  Thunderstorm Wind     137         20   \n",
       "693085     1093575   5139755  Thunderstorm Wind     031         31   \n",
       "\n",
       "        INJURIES_DIRECT  INJURIES_INDIRECT  DEATHS_DIRECT  DEATHS_INDIRECT  \\\n",
       "582825                0                  0              0                0   \n",
       "926334                0                  0              0                0   \n",
       "693085                0                  0              0                0   \n",
       "\n",
       "       DAMAGE_PROPERTY       DATE  YEAR CO_FIPS  \n",
       "582825            None 1999-02-05  1999   26043  \n",
       "926334            None 2002-04-10  2002   20137  \n",
       "693085              1K 2000-04-19  2000   31031  "
      ]
     },
     "execution_count": 13,
     "metadata": {},
     "output_type": "execute_result"
    }
   ],
   "source": [
    "df_noaa_events.sample(3)"
   ]
  },
  {
   "cell_type": "code",
   "execution_count": 16,
   "id": "220cd6f6",
   "metadata": {},
   "outputs": [
    {
     "data": {
      "application/vnd.microsoft.datawrangler.viewer.v0+json": {
       "columns": [
        {
         "name": "index",
         "rawType": "object",
         "type": "string"
        },
        {
         "name": "EPISODE_ID",
         "rawType": "float64",
         "type": "float"
        },
        {
         "name": "EVENT_ID",
         "rawType": "float64",
         "type": "float"
        },
        {
         "name": "INJURIES_DIRECT",
         "rawType": "float64",
         "type": "float"
        },
        {
         "name": "INJURIES_INDIRECT",
         "rawType": "float64",
         "type": "float"
        },
        {
         "name": "DEATHS_DIRECT",
         "rawType": "float64",
         "type": "float"
        },
        {
         "name": "DEATHS_INDIRECT",
         "rawType": "float64",
         "type": "float"
        },
        {
         "name": "DATE",
         "rawType": "object",
         "type": "unknown"
        },
        {
         "name": "YEAR",
         "rawType": "float64",
         "type": "float"
        }
       ],
       "ref": "e16416ef-4deb-48e1-9386-43cb7a8b4f5e",
       "rows": [
        [
         "count",
         "1500308.0",
         "1500308.0",
         "1500308.0",
         "1500308.0",
         "1500308.0",
         "1500308.0",
         "1500308",
         "1500308.0"
        ],
        [
         "mean",
         "407582.331566585",
         "1869402.891264327",
         "0.044716151616868004",
         "0.010177243605979573",
         "0.010785118788942004",
         "0.0027634325751778968",
         "2012-07-09 20:04:27.458680576",
         "2012.0697376805297"
        ],
        [
         "min",
         "1.0",
         "3.0",
         "0.0",
         "0.0",
         "0.0",
         "0.0",
         "1999-01-01 00:00:00",
         "1999.0"
        ],
        [
         "25%",
         "68069.0",
         "409549.75",
         "0.0",
         "0.0",
         "0.0",
         "0.0",
         "2006-06-08 00:00:00",
         "2006.0"
        ],
        [
         "50%",
         "137525.0",
         "828204.0",
         "0.0",
         "0.0",
         "0.0",
         "0.0",
         "2012-06-16 00:00:00",
         "2012.0"
        ],
        [
         "75%",
         "1094970.0",
         "5147453.25",
         "0.0",
         "0.0",
         "0.0",
         "0.0",
         "2019-02-12 00:00:00",
         "2019.0"
        ],
        [
         "max",
         "2414827.0",
         "5724920.0",
         "1150.0",
         "2400.0",
         "638.0",
         "56.0",
         "2024-12-31 00:00:00",
         "2024.0"
        ],
        [
         "std",
         "543920.1386744912",
         "2129522.598482501",
         "2.340475505869566",
         "2.079538728965396",
         "0.6264439370323889",
         "0.10482102099129327",
         null,
         "7.416754813825574"
        ]
       ],
       "shape": {
        "columns": 8,
        "rows": 8
       }
      },
      "text/html": [
       "<div>\n",
       "<style scoped>\n",
       "    .dataframe tbody tr th:only-of-type {\n",
       "        vertical-align: middle;\n",
       "    }\n",
       "\n",
       "    .dataframe tbody tr th {\n",
       "        vertical-align: top;\n",
       "    }\n",
       "\n",
       "    .dataframe thead th {\n",
       "        text-align: right;\n",
       "    }\n",
       "</style>\n",
       "<table border=\"1\" class=\"dataframe\">\n",
       "  <thead>\n",
       "    <tr style=\"text-align: right;\">\n",
       "      <th></th>\n",
       "      <th>EPISODE_ID</th>\n",
       "      <th>EVENT_ID</th>\n",
       "      <th>INJURIES_DIRECT</th>\n",
       "      <th>INJURIES_INDIRECT</th>\n",
       "      <th>DEATHS_DIRECT</th>\n",
       "      <th>DEATHS_INDIRECT</th>\n",
       "      <th>DATE</th>\n",
       "      <th>YEAR</th>\n",
       "    </tr>\n",
       "  </thead>\n",
       "  <tbody>\n",
       "    <tr>\n",
       "      <th>count</th>\n",
       "      <td>1.500308e+06</td>\n",
       "      <td>1.500308e+06</td>\n",
       "      <td>1.500308e+06</td>\n",
       "      <td>1.500308e+06</td>\n",
       "      <td>1.500308e+06</td>\n",
       "      <td>1.500308e+06</td>\n",
       "      <td>1500308</td>\n",
       "      <td>1.500308e+06</td>\n",
       "    </tr>\n",
       "    <tr>\n",
       "      <th>mean</th>\n",
       "      <td>4.075823e+05</td>\n",
       "      <td>1.869403e+06</td>\n",
       "      <td>4.471615e-02</td>\n",
       "      <td>1.017724e-02</td>\n",
       "      <td>1.078512e-02</td>\n",
       "      <td>2.763433e-03</td>\n",
       "      <td>2012-07-09 20:04:27.458680576</td>\n",
       "      <td>2.012070e+03</td>\n",
       "    </tr>\n",
       "    <tr>\n",
       "      <th>min</th>\n",
       "      <td>1.000000e+00</td>\n",
       "      <td>3.000000e+00</td>\n",
       "      <td>0.000000e+00</td>\n",
       "      <td>0.000000e+00</td>\n",
       "      <td>0.000000e+00</td>\n",
       "      <td>0.000000e+00</td>\n",
       "      <td>1999-01-01 00:00:00</td>\n",
       "      <td>1.999000e+03</td>\n",
       "    </tr>\n",
       "    <tr>\n",
       "      <th>25%</th>\n",
       "      <td>6.806900e+04</td>\n",
       "      <td>4.095498e+05</td>\n",
       "      <td>0.000000e+00</td>\n",
       "      <td>0.000000e+00</td>\n",
       "      <td>0.000000e+00</td>\n",
       "      <td>0.000000e+00</td>\n",
       "      <td>2006-06-08 00:00:00</td>\n",
       "      <td>2.006000e+03</td>\n",
       "    </tr>\n",
       "    <tr>\n",
       "      <th>50%</th>\n",
       "      <td>1.375250e+05</td>\n",
       "      <td>8.282040e+05</td>\n",
       "      <td>0.000000e+00</td>\n",
       "      <td>0.000000e+00</td>\n",
       "      <td>0.000000e+00</td>\n",
       "      <td>0.000000e+00</td>\n",
       "      <td>2012-06-16 00:00:00</td>\n",
       "      <td>2.012000e+03</td>\n",
       "    </tr>\n",
       "    <tr>\n",
       "      <th>75%</th>\n",
       "      <td>1.094970e+06</td>\n",
       "      <td>5.147453e+06</td>\n",
       "      <td>0.000000e+00</td>\n",
       "      <td>0.000000e+00</td>\n",
       "      <td>0.000000e+00</td>\n",
       "      <td>0.000000e+00</td>\n",
       "      <td>2019-02-12 00:00:00</td>\n",
       "      <td>2.019000e+03</td>\n",
       "    </tr>\n",
       "    <tr>\n",
       "      <th>max</th>\n",
       "      <td>2.414827e+06</td>\n",
       "      <td>5.724920e+06</td>\n",
       "      <td>1.150000e+03</td>\n",
       "      <td>2.400000e+03</td>\n",
       "      <td>6.380000e+02</td>\n",
       "      <td>5.600000e+01</td>\n",
       "      <td>2024-12-31 00:00:00</td>\n",
       "      <td>2.024000e+03</td>\n",
       "    </tr>\n",
       "    <tr>\n",
       "      <th>std</th>\n",
       "      <td>5.439201e+05</td>\n",
       "      <td>2.129523e+06</td>\n",
       "      <td>2.340476e+00</td>\n",
       "      <td>2.079539e+00</td>\n",
       "      <td>6.264439e-01</td>\n",
       "      <td>1.048210e-01</td>\n",
       "      <td>NaN</td>\n",
       "      <td>7.416755e+00</td>\n",
       "    </tr>\n",
       "  </tbody>\n",
       "</table>\n",
       "</div>"
      ],
      "text/plain": [
       "         EPISODE_ID      EVENT_ID  INJURIES_DIRECT  INJURIES_INDIRECT  \\\n",
       "count  1.500308e+06  1.500308e+06     1.500308e+06       1.500308e+06   \n",
       "mean   4.075823e+05  1.869403e+06     4.471615e-02       1.017724e-02   \n",
       "min    1.000000e+00  3.000000e+00     0.000000e+00       0.000000e+00   \n",
       "25%    6.806900e+04  4.095498e+05     0.000000e+00       0.000000e+00   \n",
       "50%    1.375250e+05  8.282040e+05     0.000000e+00       0.000000e+00   \n",
       "75%    1.094970e+06  5.147453e+06     0.000000e+00       0.000000e+00   \n",
       "max    2.414827e+06  5.724920e+06     1.150000e+03       2.400000e+03   \n",
       "std    5.439201e+05  2.129523e+06     2.340476e+00       2.079539e+00   \n",
       "\n",
       "       DEATHS_DIRECT  DEATHS_INDIRECT                           DATE  \\\n",
       "count   1.500308e+06     1.500308e+06                        1500308   \n",
       "mean    1.078512e-02     2.763433e-03  2012-07-09 20:04:27.458680576   \n",
       "min     0.000000e+00     0.000000e+00            1999-01-01 00:00:00   \n",
       "25%     0.000000e+00     0.000000e+00            2006-06-08 00:00:00   \n",
       "50%     0.000000e+00     0.000000e+00            2012-06-16 00:00:00   \n",
       "75%     0.000000e+00     0.000000e+00            2019-02-12 00:00:00   \n",
       "max     6.380000e+02     5.600000e+01            2024-12-31 00:00:00   \n",
       "std     6.264439e-01     1.048210e-01                            NaN   \n",
       "\n",
       "               YEAR  \n",
       "count  1.500308e+06  \n",
       "mean   2.012070e+03  \n",
       "min    1.999000e+03  \n",
       "25%    2.006000e+03  \n",
       "50%    2.012000e+03  \n",
       "75%    2.019000e+03  \n",
       "max    2.024000e+03  \n",
       "std    7.416755e+00  "
      ]
     },
     "execution_count": 16,
     "metadata": {},
     "output_type": "execute_result"
    }
   ],
   "source": [
    "df_noaa_events.describe()"
   ]
  },
  {
   "cell_type": "code",
   "execution_count": 20,
   "id": "a8182b0f",
   "metadata": {},
   "outputs": [
    {
     "data": {
      "image/png": "[encoded data removed]",
      "text/plain": [
       "<Figure size 1500x1000 with 6 Axes>"
      ]
     },
     "metadata": {},
     "output_type": "display_data"
    }
   ],
   "source": [
    "plot_vars = ['event_count', 'total_deaths_direct', 'total_injuries_direct', 'total_injuries_indirect', 'total_deaths_indirect']\n",
    "fig, axes = plt.subplots(2, 3, figsize=(15,10))\n",
    "axes = axes.flatten()\n",
    "pick_vars = [var for var in plot_vars if var in df_noaa_episodes.columns]\n",
    "for i, var in enumerate(pick_vars):\n",
    "    if i < len(axes):\n",
    "        data = df_noaa_episodes[var]\n",
    "        data_non = data[data > 0]\n",
    "\n",
    "        if len(data_non) > 0:\n",
    "            sns.histplot(data_non, kde=True, log_scale=True, ax=axes[i])\n",
    "            axes[i].set_title(f'{var} (logscale)')\n",
    "            axes[i].set_xlabel(var)\n",
    "\n",
    "for j in range(i+1, len(axes)):\n",
    "    axes[j].set_visible(False)\n",
    "\n",
    "plt.tight_layout()\n",
    "plt.show()"
   ]
  },
  {
   "cell_type": "markdown",
   "id": "3cee05ac",
   "metadata": {},
   "source": [
    "Candidates for deaths/injuries\n",
    "lognormal\n",
    "gamma\n",
    "weibull\n",
    "\n",
    "lognormal eliminated due to graph above\n"
   ]
  },
  {
   "cell_type": "code",
   "execution_count": null,
   "id": "ce2583ec",
   "metadata": {},
   "outputs": [],
   "source": []
  }
 ],
 "metadata": {
  "kernelspec": {
   "display_name": "Python 3",
   "language": "python",
   "name": "python3"
  },
  "language_info": {
   "codemirror_mode": {
    "name": "ipython",
    "version": 3
   },
   "file_extension": ".py",
   "mimetype": "text/x-python",
   "name": "python",
   "nbconvert_exporter": "python",
   "pygments_lexer": "ipython3",
   "version": "3.13.1"
  }
 },
 "nbformat": 4,
 "nbformat_minor": 5
}
