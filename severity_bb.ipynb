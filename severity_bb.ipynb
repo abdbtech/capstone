{
 "cells": [
  {
   "cell_type": "markdown",
   "id": "7b032dc7",
   "metadata": {},
   "source": [
    "# Severity component "
   ]
  },
  {
   "cell_type": "code",
   "execution_count": 1,
   "id": "3cd2a772",
   "metadata": {},
   "outputs": [],
   "source": [
    "# import libraries\n",
    "# NOTE: global_vars should be edited to include local paths and credentials before use.\n",
    "import ignore.global_vars as gv\n",
    "import db_tools as dbt\n",
    "import pandas as pd\n",
    "import sqlalchemy\n",
    "import sys\n",
    "from IPython.display import display, HTML\n",
    "from scipy import stats\n",
    "from scipy.stats import poisson, nbinom\n",
    "import numpy as np\n",
    "import matplotlib.pyplot as plt\n",
    "import seaborn as sns\n",
    "import geopandas as gpd\n",
    "from matplotlib.colors import LinearSegmentedColormap\n",
    "import plotly.express as px\n",
    "import plotly.graph_objects as go\n",
    "from shapely import wkt\n",
    "import os\n"
   ]
  },
  {
   "cell_type": "code",
   "execution_count": 2,
   "id": "14bce45b",
   "metadata": {},
   "outputs": [
    {
     "name": "stdout",
     "output_type": "stream",
     "text": [
      "Created SQLAlchemy engine for disaster_db\n",
      "Query executed successfully, returned 11 rows\n",
      "                             table_name\n",
      "0                     census_resilience\n",
      "1                     geography_columns\n",
      "2                      geometry_columns\n",
      "3                       spatial_ref_sys\n",
      "4                 disaster_risk_spatial\n",
      "5        disaster_risk_counties_spatial\n",
      "6              POISSON_FREQUENCY_PARAMS\n",
      "7                   NOAA_STORM_EPISODES\n",
      "8               nri_shape_census_tracts\n",
      "9                     NOAA_STORM_EVENTS\n",
      "10  disaster_risk_counties_event_counts\n"
     ]
    }
   ],
   "source": [
    "# open connection and get table names\n",
    "table_names = dbt.query(\n",
    "    \"SELECT table_name FROM information_schema.tables WHERE table_schema='public'\"\n",
    ")\n",
    "print(table_names)\n"
   ]
  },
  {
   "cell_type": "code",
   "execution_count": 3,
   "id": "4cfbbd80",
   "metadata": {},
   "outputs": [
    {
     "name": "stdout",
     "output_type": "stream",
     "text": [
      "Created SQLAlchemy engine for disaster_db\n",
      "Query executed successfully, returned 98488 rows\n",
      "Created SQLAlchemy engine for disaster_db\n",
      "Query executed successfully, returned 1500308 rows\n",
      "Created SQLAlchemy engine for disaster_db\n",
      "Query executed successfully, returned 3144 rows\n"
     ]
    }
   ],
   "source": [
    "\n",
    "df_noaa_episodes = dbt.query('SELECT * FROM \"NOAA_STORM_EPISODES\"')\n",
    "df_noaa_events = dbt.query('SELECT * FROM \"NOAA_STORM_EVENTS\"')\n",
    "df_census = dbt.query('SELECT * FROM \"census_resilience\"')"
   ]
  },
  {
   "cell_type": "code",
   "execution_count": 6,
   "id": "bc8e1734",
   "metadata": {},
   "outputs": [
    {
     "data": {
      "application/vnd.microsoft.datawrangler.viewer.v0+json": {
       "columns": [
        {
         "name": "index",
         "rawType": "int64",
         "type": "integer"
        },
        {
         "name": "county_fips",
         "rawType": "object",
         "type": "string"
        },
        {
         "name": "year",
         "rawType": "int64",
         "type": "integer"
        },
        {
         "name": "event_count",
         "rawType": "int64",
         "type": "integer"
        },
        {
         "name": "total_deaths_direct",
         "rawType": "int64",
         "type": "integer"
        },
        {
         "name": "total_deaths_indirect",
         "rawType": "int64",
         "type": "integer"
        },
        {
         "name": "total_injuries_direct",
         "rawType": "int64",
         "type": "integer"
        },
        {
         "name": "total_injuries_indirect",
         "rawType": "int64",
         "type": "integer"
        },
        {
         "name": "event_types",
         "rawType": "object",
         "type": "string"
        },
        {
         "name": "first_event_date",
         "rawType": "datetime64[ns]",
         "type": "datetime"
        }
       ],
       "ref": "538afc78-6248-4703-8195-61a559c037ec",
       "rows": [
        [
         "69862",
         "40121",
         "1999",
         "0",
         "0",
         "0",
         "0",
         "0",
         "",
         null
        ],
        [
         "20725",
         "16012",
         "2002",
         "0",
         "0",
         "0",
         "0",
         "0",
         "",
         null
        ],
        [
         "94025",
         "53555",
         "2008",
         "0",
         "0",
         "0",
         "0",
         "0",
         "",
         null
        ]
       ],
       "shape": {
        "columns": 9,
        "rows": 3
       }
      },
      "text/html": [
       "<div>\n",
       "<style scoped>\n",
       "    .dataframe tbody tr th:only-of-type {\n",
       "        vertical-align: middle;\n",
       "    }\n",
       "\n",
       "    .dataframe tbody tr th {\n",
       "        vertical-align: top;\n",
       "    }\n",
       "\n",
       "    .dataframe thead th {\n",
       "        text-align: right;\n",
       "    }\n",
       "</style>\n",
       "<table border=\"1\" class=\"dataframe\">\n",
       "  <thead>\n",
       "    <tr style=\"text-align: right;\">\n",
       "      <th></th>\n",
       "      <th>county_fips</th>\n",
       "      <th>year</th>\n",
       "      <th>event_count</th>\n",
       "      <th>total_deaths_direct</th>\n",
       "      <th>total_deaths_indirect</th>\n",
       "      <th>total_injuries_direct</th>\n",
       "      <th>total_injuries_indirect</th>\n",
       "      <th>event_types</th>\n",
       "      <th>first_event_date</th>\n",
       "    </tr>\n",
       "  </thead>\n",
       "  <tbody>\n",
       "    <tr>\n",
       "      <th>69862</th>\n",
       "      <td>40121</td>\n",
       "      <td>1999</td>\n",
       "      <td>0</td>\n",
       "      <td>0</td>\n",
       "      <td>0</td>\n",
       "      <td>0</td>\n",
       "      <td>0</td>\n",
       "      <td></td>\n",
       "      <td>NaT</td>\n",
       "    </tr>\n",
       "    <tr>\n",
       "      <th>20725</th>\n",
       "      <td>16012</td>\n",
       "      <td>2002</td>\n",
       "      <td>0</td>\n",
       "      <td>0</td>\n",
       "      <td>0</td>\n",
       "      <td>0</td>\n",
       "      <td>0</td>\n",
       "      <td></td>\n",
       "      <td>NaT</td>\n",
       "    </tr>\n",
       "    <tr>\n",
       "      <th>94025</th>\n",
       "      <td>53555</td>\n",
       "      <td>2008</td>\n",
       "      <td>0</td>\n",
       "      <td>0</td>\n",
       "      <td>0</td>\n",
       "      <td>0</td>\n",
       "      <td>0</td>\n",
       "      <td></td>\n",
       "      <td>NaT</td>\n",
       "    </tr>\n",
       "  </tbody>\n",
       "</table>\n",
       "</div>"
      ],
      "text/plain": [
       "      county_fips  year  event_count  total_deaths_direct  \\\n",
       "69862       40121  1999            0                    0   \n",
       "20725       16012  2002            0                    0   \n",
       "94025       53555  2008            0                    0   \n",
       "\n",
       "       total_deaths_indirect  total_injuries_direct  total_injuries_indirect  \\\n",
       "69862                      0                      0                        0   \n",
       "20725                      0                      0                        0   \n",
       "94025                      0                      0                        0   \n",
       "\n",
       "      event_types first_event_date  \n",
       "69862                          NaT  \n",
       "20725                          NaT  \n",
       "94025                          NaT  "
      ]
     },
     "execution_count": 6,
     "metadata": {},
     "output_type": "execute_result"
    }
   ],
   "source": [
    "df_noaa_episodes.sample(3)"
   ]
  },
  {
   "cell_type": "code",
   "execution_count": 7,
   "id": "83a8accb",
   "metadata": {},
   "outputs": [
    {
     "data": {
      "application/vnd.microsoft.datawrangler.viewer.v0+json": {
       "columns": [
        {
         "name": "index",
         "rawType": "int64",
         "type": "integer"
        },
        {
         "name": "EPISODE_ID",
         "rawType": "int64",
         "type": "integer"
        },
        {
         "name": "EVENT_ID",
         "rawType": "int64",
         "type": "integer"
        },
        {
         "name": "EVENT_TYPE",
         "rawType": "object",
         "type": "string"
        },
        {
         "name": "CZ_FIPS",
         "rawType": "object",
         "type": "string"
        },
        {
         "name": "STATE_FIPS",
         "rawType": "object",
         "type": "string"
        },
        {
         "name": "INJURIES_DIRECT",
         "rawType": "int64",
         "type": "integer"
        },
        {
         "name": "INJURIES_INDIRECT",
         "rawType": "int64",
         "type": "integer"
        },
        {
         "name": "DEATHS_DIRECT",
         "rawType": "int64",
         "type": "integer"
        },
        {
         "name": "DEATHS_INDIRECT",
         "rawType": "int64",
         "type": "integer"
        },
        {
         "name": "DAMAGE_PROPERTY",
         "rawType": "object",
         "type": "unknown"
        },
        {
         "name": "DATE",
         "rawType": "datetime64[ns]",
         "type": "datetime"
        },
        {
         "name": "YEAR",
         "rawType": "int64",
         "type": "integer"
        },
        {
         "name": "CO_FIPS",
         "rawType": "object",
         "type": "string"
        }
       ],
       "ref": "f8294851-62f7-4798-86ed-b0eed1c61fc4",
       "rows": [
        [
         "1422588",
         "182730",
         "1114629",
         "Hail",
         "107",
         "27",
         "0",
         "0",
         "0",
         "0",
         null,
         "2023-07-09 00:00:00",
         "2023",
         "27107"
        ],
        [
         "1071028",
         "2152106",
         "5327481",
         "High Surf",
         "003",
         "15",
         "0",
         "0",
         "0",
         "0",
         null,
         "2003-04-19 00:00:00",
         "2003",
         "15003"
        ],
        [
         "130916",
         "147219",
         "885791",
         "Flood",
         "043",
         "54",
         "0",
         "0",
         "0",
         "0",
         "2.00K",
         "2020-05-21 00:00:00",
         "2020",
         "54043"
        ]
       ],
       "shape": {
        "columns": 13,
        "rows": 3
       }
      },
      "text/html": [
       "<div>\n",
       "<style scoped>\n",
       "    .dataframe tbody tr th:only-of-type {\n",
       "        vertical-align: middle;\n",
       "    }\n",
       "\n",
       "    .dataframe tbody tr th {\n",
       "        vertical-align: top;\n",
       "    }\n",
       "\n",
       "    .dataframe thead th {\n",
       "        text-align: right;\n",
       "    }\n",
       "</style>\n",
       "<table border=\"1\" class=\"dataframe\">\n",
       "  <thead>\n",
       "    <tr style=\"text-align: right;\">\n",
       "      <th></th>\n",
       "      <th>EPISODE_ID</th>\n",
       "      <th>EVENT_ID</th>\n",
       "      <th>EVENT_TYPE</th>\n",
       "      <th>CZ_FIPS</th>\n",
       "      <th>STATE_FIPS</th>\n",
       "      <th>INJURIES_DIRECT</th>\n",
       "      <th>INJURIES_INDIRECT</th>\n",
       "      <th>DEATHS_DIRECT</th>\n",
       "      <th>DEATHS_INDIRECT</th>\n",
       "      <th>DAMAGE_PROPERTY</th>\n",
       "      <th>DATE</th>\n",
       "      <th>YEAR</th>\n",
       "      <th>CO_FIPS</th>\n",
       "    </tr>\n",
       "  </thead>\n",
       "  <tbody>\n",
       "    <tr>\n",
       "      <th>1422588</th>\n",
       "      <td>182730</td>\n",
       "      <td>1114629</td>\n",
       "      <td>Hail</td>\n",
       "      <td>107</td>\n",
       "      <td>27</td>\n",
       "      <td>0</td>\n",
       "      <td>0</td>\n",
       "      <td>0</td>\n",
       "      <td>0</td>\n",
       "      <td>None</td>\n",
       "      <td>2023-07-09</td>\n",
       "      <td>2023</td>\n",
       "      <td>27107</td>\n",
       "    </tr>\n",
       "    <tr>\n",
       "      <th>1071028</th>\n",
       "      <td>2152106</td>\n",
       "      <td>5327481</td>\n",
       "      <td>High Surf</td>\n",
       "      <td>003</td>\n",
       "      <td>15</td>\n",
       "      <td>0</td>\n",
       "      <td>0</td>\n",
       "      <td>0</td>\n",
       "      <td>0</td>\n",
       "      <td>None</td>\n",
       "      <td>2003-04-19</td>\n",
       "      <td>2003</td>\n",
       "      <td>15003</td>\n",
       "    </tr>\n",
       "    <tr>\n",
       "      <th>130916</th>\n",
       "      <td>147219</td>\n",
       "      <td>885791</td>\n",
       "      <td>Flood</td>\n",
       "      <td>043</td>\n",
       "      <td>54</td>\n",
       "      <td>0</td>\n",
       "      <td>0</td>\n",
       "      <td>0</td>\n",
       "      <td>0</td>\n",
       "      <td>2.00K</td>\n",
       "      <td>2020-05-21</td>\n",
       "      <td>2020</td>\n",
       "      <td>54043</td>\n",
       "    </tr>\n",
       "  </tbody>\n",
       "</table>\n",
       "</div>"
      ],
      "text/plain": [
       "         EPISODE_ID  EVENT_ID EVENT_TYPE CZ_FIPS STATE_FIPS  INJURIES_DIRECT  \\\n",
       "1422588      182730   1114629       Hail     107         27                0   \n",
       "1071028     2152106   5327481  High Surf     003         15                0   \n",
       "130916       147219    885791      Flood     043         54                0   \n",
       "\n",
       "         INJURIES_INDIRECT  DEATHS_DIRECT  DEATHS_INDIRECT DAMAGE_PROPERTY  \\\n",
       "1422588                  0              0                0            None   \n",
       "1071028                  0              0                0            None   \n",
       "130916                   0              0                0           2.00K   \n",
       "\n",
       "              DATE  YEAR CO_FIPS  \n",
       "1422588 2023-07-09  2023   27107  \n",
       "1071028 2003-04-19  2003   15003  \n",
       "130916  2020-05-21  2020   54043  "
      ]
     },
     "execution_count": 7,
     "metadata": {},
     "output_type": "execute_result"
    }
   ],
   "source": [
    "df_noaa_events.sample(3)"
   ]
  },
  {
   "cell_type": "code",
   "execution_count": null,
   "id": "a8182b0f",
   "metadata": {},
   "outputs": [],
   "source": []
  }
 ],
 "metadata": {
  "kernelspec": {
   "display_name": "Python 3",
   "language": "python",
   "name": "python3"
  },
  "language_info": {
   "codemirror_mode": {
    "name": "ipython",
    "version": 3
   },
   "file_extension": ".py",
   "mimetype": "text/x-python",
   "name": "python",
   "nbconvert_exporter": "python",
   "pygments_lexer": "ipython3",
   "version": "3.13.1"
  }
 },
 "nbformat": 4,
 "nbformat_minor": 5
}
