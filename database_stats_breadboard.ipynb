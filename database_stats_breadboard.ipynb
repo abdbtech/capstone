{
 "cells": [
  {
   "cell_type": "markdown",
   "id": "f96600d6",
   "metadata": {},
   "source": [
    "## Database setup and statistical analyis\n"
   ]
  },
  {
   "cell_type": "code",
   "execution_count": 10,
   "id": "9617caf5",
   "metadata": {},
   "outputs": [],
   "source": [
    "# import libraries\n",
    "# NOTE: global_vars should be edited to include local paths and credentials before use.\n",
    "# If global_vars.py is created in the root dir remove the ignore/ prefix in the import statement below.\n",
    "import ignore.global_vars as gv\n",
    "import db_tools as dbt\n",
    "import pandas as pd\n",
    "import sqlalchemy\n",
    "import sys\n",
    "from IPython.display import display, HTML"
   ]
  },
  {
   "cell_type": "code",
   "execution_count": 7,
   "id": "27df569f",
   "metadata": {},
   "outputs": [
    {
     "name": "stdout",
     "output_type": "stream",
     "text": [
      "Created SQLAlchemy engine for disaster_db\n",
      "                table_name\n",
      "0        geography_columns\n",
      "1         geometry_columns\n",
      "2          spatial_ref_sys\n",
      "3       nri_shape_counties\n",
      "4  nri_shape_census_tracts\n",
      "5        NOAA_STORM_EVENTS\n",
      "6        census_resilience\n"
     ]
    }
   ],
   "source": [
    "# open connection and get table names\n",
    "table_names = dbt.query(\"SELECT table_name FROM information_schema.tables WHERE table_schema='public'\")\n",
    "print(table_names)\n"
   ]
  },
  {
   "cell_type": "code",
   "execution_count": 9,
   "id": "0a405bca",
   "metadata": {},
   "outputs": [
    {
     "name": "stdout",
     "output_type": "stream",
     "text": [
      "Created SQLAlchemy engine for disaster_db\n"
     ]
    },
    {
     "data": {
      "application/vnd.microsoft.datawrangler.viewer.v0+json": {
       "columns": [
        {
         "name": "index",
         "rawType": "int64",
         "type": "integer"
        },
        {
         "name": "table_name",
         "rawType": "object",
         "type": "string"
        },
        {
         "name": "column_name",
         "rawType": "object",
         "type": "string"
        },
        {
         "name": "data_type",
         "rawType": "object",
         "type": "string"
        }
       ],
       "ref": "457bcfeb-528f-42ad-a705-ff128a3b3394",
       "rows": [
        [
         "0",
         "NOAA_STORM_EVENTS",
         "EPISODE_ID",
         "bigint"
        ],
        [
         "1",
         "NOAA_STORM_EVENTS",
         "EVENT_ID",
         "bigint"
        ],
        [
         "2",
         "NOAA_STORM_EVENTS",
         "EVENT_TYPE",
         "text"
        ],
        [
         "3",
         "NOAA_STORM_EVENTS",
         "CZ_FIPS",
         "text"
        ],
        [
         "4",
         "NOAA_STORM_EVENTS",
         "STATE_FIPS",
         "text"
        ],
        [
         "5",
         "NOAA_STORM_EVENTS",
         "INJURIES_DIRECT",
         "bigint"
        ],
        [
         "6",
         "NOAA_STORM_EVENTS",
         "INJURIES_INDIRECT",
         "bigint"
        ],
        [
         "7",
         "NOAA_STORM_EVENTS",
         "DEATHS_DIRECT",
         "bigint"
        ],
        [
         "8",
         "NOAA_STORM_EVENTS",
         "DEATHS_INDIRECT",
         "bigint"
        ],
        [
         "9",
         "NOAA_STORM_EVENTS",
         "DAMAGE_PROPERTY",
         "text"
        ],
        [
         "10",
         "NOAA_STORM_EVENTS",
         "DATE",
         "timestamp without time zone"
        ],
        [
         "11",
         "NOAA_STORM_EVENTS",
         "CO_FIPS",
         "text"
        ],
        [
         "12",
         "census_resilience",
         "POPUNI",
         "bigint"
        ],
        [
         "13",
         "census_resilience",
         "PRED0_E",
         "bigint"
        ],
        [
         "14",
         "census_resilience",
         "PRED0_M",
         "bigint"
        ],
        [
         "15",
         "census_resilience",
         "PRED0_PE",
         "double precision"
        ],
        [
         "16",
         "census_resilience",
         "PRED0_PM",
         "double precision"
        ],
        [
         "17",
         "census_resilience",
         "PRED12_E",
         "bigint"
        ],
        [
         "18",
         "census_resilience",
         "PRED12_M",
         "bigint"
        ],
        [
         "19",
         "census_resilience",
         "PRED12_PE",
         "double precision"
        ],
        [
         "20",
         "census_resilience",
         "PRED12_PM",
         "double precision"
        ],
        [
         "21",
         "census_resilience",
         "PRED3_E",
         "bigint"
        ],
        [
         "22",
         "census_resilience",
         "PRED3_M",
         "bigint"
        ],
        [
         "23",
         "census_resilience",
         "PRED3_PE",
         "double precision"
        ],
        [
         "24",
         "census_resilience",
         "PRED3_PM",
         "double precision"
        ],
        [
         "25",
         "census_resilience",
         "FIPS",
         "text"
        ],
        [
         "26",
         "geography_columns",
         "f_table_catalog",
         "name"
        ],
        [
         "27",
         "geography_columns",
         "f_table_schema",
         "name"
        ],
        [
         "28",
         "geography_columns",
         "f_table_name",
         "name"
        ],
        [
         "29",
         "geography_columns",
         "f_geography_column",
         "name"
        ],
        [
         "30",
         "geography_columns",
         "coord_dimension",
         "integer"
        ],
        [
         "31",
         "geography_columns",
         "srid",
         "integer"
        ],
        [
         "32",
         "geography_columns",
         "type",
         "text"
        ],
        [
         "33",
         "geometry_columns",
         "f_table_catalog",
         "character varying"
        ],
        [
         "34",
         "geometry_columns",
         "f_table_schema",
         "name"
        ],
        [
         "35",
         "geometry_columns",
         "f_table_name",
         "name"
        ],
        [
         "36",
         "geometry_columns",
         "f_geometry_column",
         "name"
        ],
        [
         "37",
         "geometry_columns",
         "coord_dimension",
         "integer"
        ],
        [
         "38",
         "geometry_columns",
         "srid",
         "integer"
        ],
        [
         "39",
         "geometry_columns",
         "type",
         "character varying"
        ],
        [
         "40",
         "nri_shape_census_tracts",
         "NRI_ID",
         "text"
        ],
        [
         "41",
         "nri_shape_census_tracts",
         "STATE",
         "text"
        ],
        [
         "42",
         "nri_shape_census_tracts",
         "STATEABBRV",
         "text"
        ],
        [
         "43",
         "nri_shape_census_tracts",
         "STATEFIPS",
         "text"
        ],
        [
         "44",
         "nri_shape_census_tracts",
         "COUNTY",
         "text"
        ],
        [
         "45",
         "nri_shape_census_tracts",
         "COUNTYTYPE",
         "text"
        ],
        [
         "46",
         "nri_shape_census_tracts",
         "COUNTYFIPS",
         "text"
        ],
        [
         "47",
         "nri_shape_census_tracts",
         "STCOFIPS",
         "text"
        ],
        [
         "48",
         "nri_shape_census_tracts",
         "TRACT",
         "text"
        ],
        [
         "49",
         "nri_shape_census_tracts",
         "TRACTFIPS",
         "text"
        ]
       ],
       "shape": {
        "columns": 3,
        "rows": 981
       }
      },
      "text/html": [
       "<div>\n",
       "<style scoped>\n",
       "    .dataframe tbody tr th:only-of-type {\n",
       "        vertical-align: middle;\n",
       "    }\n",
       "\n",
       "    .dataframe tbody tr th {\n",
       "        vertical-align: top;\n",
       "    }\n",
       "\n",
       "    .dataframe thead th {\n",
       "        text-align: right;\n",
       "    }\n",
       "</style>\n",
       "<table border=\"1\" class=\"dataframe\">\n",
       "  <thead>\n",
       "    <tr style=\"text-align: right;\">\n",
       "      <th></th>\n",
       "      <th>table_name</th>\n",
       "      <th>column_name</th>\n",
       "      <th>data_type</th>\n",
       "    </tr>\n",
       "  </thead>\n",
       "  <tbody>\n",
       "    <tr>\n",
       "      <th>0</th>\n",
       "      <td>NOAA_STORM_EVENTS</td>\n",
       "      <td>EPISODE_ID</td>\n",
       "      <td>bigint</td>\n",
       "    </tr>\n",
       "    <tr>\n",
       "      <th>1</th>\n",
       "      <td>NOAA_STORM_EVENTS</td>\n",
       "      <td>EVENT_ID</td>\n",
       "      <td>bigint</td>\n",
       "    </tr>\n",
       "    <tr>\n",
       "      <th>2</th>\n",
       "      <td>NOAA_STORM_EVENTS</td>\n",
       "      <td>EVENT_TYPE</td>\n",
       "      <td>text</td>\n",
       "    </tr>\n",
       "    <tr>\n",
       "      <th>3</th>\n",
       "      <td>NOAA_STORM_EVENTS</td>\n",
       "      <td>CZ_FIPS</td>\n",
       "      <td>text</td>\n",
       "    </tr>\n",
       "    <tr>\n",
       "      <th>4</th>\n",
       "      <td>NOAA_STORM_EVENTS</td>\n",
       "      <td>STATE_FIPS</td>\n",
       "      <td>text</td>\n",
       "    </tr>\n",
       "    <tr>\n",
       "      <th>...</th>\n",
       "      <td>...</td>\n",
       "      <td>...</td>\n",
       "      <td>...</td>\n",
       "    </tr>\n",
       "    <tr>\n",
       "      <th>976</th>\n",
       "      <td>spatial_ref_sys</td>\n",
       "      <td>srid</td>\n",
       "      <td>integer</td>\n",
       "    </tr>\n",
       "    <tr>\n",
       "      <th>977</th>\n",
       "      <td>spatial_ref_sys</td>\n",
       "      <td>auth_name</td>\n",
       "      <td>character varying</td>\n",
       "    </tr>\n",
       "    <tr>\n",
       "      <th>978</th>\n",
       "      <td>spatial_ref_sys</td>\n",
       "      <td>auth_srid</td>\n",
       "      <td>integer</td>\n",
       "    </tr>\n",
       "    <tr>\n",
       "      <th>979</th>\n",
       "      <td>spatial_ref_sys</td>\n",
       "      <td>srtext</td>\n",
       "      <td>character varying</td>\n",
       "    </tr>\n",
       "    <tr>\n",
       "      <th>980</th>\n",
       "      <td>spatial_ref_sys</td>\n",
       "      <td>proj4text</td>\n",
       "      <td>character varying</td>\n",
       "    </tr>\n",
       "  </tbody>\n",
       "</table>\n",
       "<p>981 rows × 3 columns</p>\n",
       "</div>"
      ],
      "text/plain": [
       "            table_name column_name          data_type\n",
       "0    NOAA_STORM_EVENTS  EPISODE_ID             bigint\n",
       "1    NOAA_STORM_EVENTS    EVENT_ID             bigint\n",
       "2    NOAA_STORM_EVENTS  EVENT_TYPE               text\n",
       "3    NOAA_STORM_EVENTS     CZ_FIPS               text\n",
       "4    NOAA_STORM_EVENTS  STATE_FIPS               text\n",
       "..                 ...         ...                ...\n",
       "976    spatial_ref_sys        srid            integer\n",
       "977    spatial_ref_sys   auth_name  character varying\n",
       "978    spatial_ref_sys   auth_srid            integer\n",
       "979    spatial_ref_sys      srtext  character varying\n",
       "980    spatial_ref_sys   proj4text  character varying\n",
       "\n",
       "[981 rows x 3 columns]"
      ]
     },
     "execution_count": 9,
     "metadata": {},
     "output_type": "execute_result"
    }
   ],
   "source": [
    "# Get table details\n",
    "schema_info = dbt.query(\"\"\"\n",
    "    SELECT table_name, column_name, data_type \n",
    "    FROM information_schema.columns \n",
    "    WHERE table_schema='public'\n",
    "    ORDER BY table_name, ordinal_position\n",
    "\"\"\")\n",
    "schema_info"
   ]
  },
  {
   "cell_type": "code",
   "execution_count": 11,
   "id": "318d3f26",
   "metadata": {},
   "outputs": [
    {
     "data": {
      "application/vnd.microsoft.datawrangler.viewer.v0+json": {
       "columns": [
        {
         "name": "column_name",
         "rawType": "object",
         "type": "string"
        },
        {
         "name": "NOAA_STORM_EVENTS",
         "rawType": "object",
         "type": "string"
        },
        {
         "name": "census_resilience",
         "rawType": "object",
         "type": "string"
        },
        {
         "name": "geography_columns",
         "rawType": "object",
         "type": "string"
        },
        {
         "name": "geometry_columns",
         "rawType": "object",
         "type": "string"
        },
        {
         "name": "nri_shape_census_tracts",
         "rawType": "object",
         "type": "string"
        },
        {
         "name": "nri_shape_counties",
         "rawType": "object",
         "type": "string"
        },
        {
         "name": "spatial_ref_sys",
         "rawType": "object",
         "type": "string"
        }
       ],
       "ref": "ac477076-7588-4050-ac33-1009c4243592",
       "rows": [
        [
         "AGRIVALUE",
         "",
         "",
         "",
         "",
         "double precision",
         "double precision",
         ""
        ],
        [
         "ALR_NPCTL",
         "",
         "",
         "",
         "",
         "double precision",
         "double precision",
         ""
        ],
        [
         "ALR_VALA",
         "",
         "",
         "",
         "",
         "double precision",
         "double precision",
         ""
        ],
        [
         "ALR_VALB",
         "",
         "",
         "",
         "",
         "double precision",
         "double precision",
         ""
        ],
        [
         "ALR_VALP",
         "",
         "",
         "",
         "",
         "double precision",
         "double precision",
         ""
        ],
        [
         "ALR_VRA_NP",
         "",
         "",
         "",
         "",
         "double precision",
         "double precision",
         ""
        ],
        [
         "AREA",
         "",
         "",
         "",
         "",
         "double precision",
         "double precision",
         ""
        ],
        [
         "AVLN_AFREQ",
         "",
         "",
         "",
         "",
         "double precision",
         "double precision",
         ""
        ],
        [
         "AVLN_ALRB",
         "",
         "",
         "",
         "",
         "double precision",
         "double precision",
         ""
        ],
        [
         "AVLN_ALRP",
         "",
         "",
         "",
         "",
         "double precision",
         "double precision",
         ""
        ],
        [
         "AVLN_ALR_N",
         "",
         "",
         "",
         "",
         "double precision",
         "double precision",
         ""
        ],
        [
         "AVLN_EALB",
         "",
         "",
         "",
         "",
         "double precision",
         "double precision",
         ""
        ],
        [
         "AVLN_EALP",
         "",
         "",
         "",
         "",
         "double precision",
         "double precision",
         ""
        ],
        [
         "AVLN_EALPE",
         "",
         "",
         "",
         "",
         "double precision",
         "double precision",
         ""
        ],
        [
         "AVLN_EALR",
         "",
         "",
         "",
         "",
         "text",
         "text",
         ""
        ],
        [
         "AVLN_EALS",
         "",
         "",
         "",
         "",
         "double precision",
         "double precision",
         ""
        ],
        [
         "AVLN_EALT",
         "",
         "",
         "",
         "",
         "double precision",
         "double precision",
         ""
        ],
        [
         "AVLN_EVNTS",
         "",
         "",
         "",
         "",
         "double precision",
         "double precision",
         ""
        ],
        [
         "AVLN_EXPB",
         "",
         "",
         "",
         "",
         "double precision",
         "double precision",
         ""
        ],
        [
         "AVLN_EXPP",
         "",
         "",
         "",
         "",
         "double precision",
         "double precision",
         ""
        ],
        [
         "AVLN_EXPPE",
         "",
         "",
         "",
         "",
         "double precision",
         "double precision",
         ""
        ],
        [
         "AVLN_EXPT",
         "",
         "",
         "",
         "",
         "double precision",
         "double precision",
         ""
        ],
        [
         "AVLN_EXP_A",
         "",
         "",
         "",
         "",
         "double precision",
         "double precision",
         ""
        ],
        [
         "AVLN_HLRB",
         "",
         "",
         "",
         "",
         "double precision",
         "double precision",
         ""
        ],
        [
         "AVLN_HLRP",
         "",
         "",
         "",
         "",
         "double precision",
         "double precision",
         ""
        ],
        [
         "AVLN_HLRR",
         "",
         "",
         "",
         "",
         "text",
         "text",
         ""
        ],
        [
         "AVLN_RISKR",
         "",
         "",
         "",
         "",
         "text",
         "text",
         ""
        ],
        [
         "AVLN_RISKS",
         "",
         "",
         "",
         "",
         "double precision",
         "double precision",
         ""
        ],
        [
         "AVLN_RISKV",
         "",
         "",
         "",
         "",
         "double precision",
         "double precision",
         ""
        ],
        [
         "BUILDVALUE",
         "",
         "",
         "",
         "",
         "double precision",
         "double precision",
         ""
        ],
        [
         "CFLD_AFREQ",
         "",
         "",
         "",
         "",
         "double precision",
         "double precision",
         ""
        ],
        [
         "CFLD_ALRB",
         "",
         "",
         "",
         "",
         "double precision",
         "double precision",
         ""
        ],
        [
         "CFLD_ALRP",
         "",
         "",
         "",
         "",
         "double precision",
         "double precision",
         ""
        ],
        [
         "CFLD_ALR_N",
         "",
         "",
         "",
         "",
         "double precision",
         "double precision",
         ""
        ],
        [
         "CFLD_EALB",
         "",
         "",
         "",
         "",
         "double precision",
         "double precision",
         ""
        ],
        [
         "CFLD_EALP",
         "",
         "",
         "",
         "",
         "double precision",
         "double precision",
         ""
        ],
        [
         "CFLD_EALPE",
         "",
         "",
         "",
         "",
         "double precision",
         "double precision",
         ""
        ],
        [
         "CFLD_EALR",
         "",
         "",
         "",
         "",
         "text",
         "text",
         ""
        ],
        [
         "CFLD_EALS",
         "",
         "",
         "",
         "",
         "double precision",
         "double precision",
         ""
        ],
        [
         "CFLD_EALT",
         "",
         "",
         "",
         "",
         "double precision",
         "double precision",
         ""
        ],
        [
         "CFLD_EVNTS",
         "",
         "",
         "",
         "",
         "double precision",
         "double precision",
         ""
        ],
        [
         "CFLD_EXPB",
         "",
         "",
         "",
         "",
         "double precision",
         "double precision",
         ""
        ],
        [
         "CFLD_EXPP",
         "",
         "",
         "",
         "",
         "double precision",
         "double precision",
         ""
        ],
        [
         "CFLD_EXPPE",
         "",
         "",
         "",
         "",
         "double precision",
         "double precision",
         ""
        ],
        [
         "CFLD_EXPT",
         "",
         "",
         "",
         "",
         "double precision",
         "double precision",
         ""
        ],
        [
         "CFLD_EXP_A",
         "",
         "",
         "",
         "",
         "double precision",
         "double precision",
         ""
        ],
        [
         "CFLD_HLRB",
         "",
         "",
         "",
         "",
         "double precision",
         "double precision",
         ""
        ],
        [
         "CFLD_HLRP",
         "",
         "",
         "",
         "",
         "double precision",
         "double precision",
         ""
        ],
        [
         "CFLD_HLRR",
         "",
         "",
         "",
         "",
         "text",
         "text",
         ""
        ],
        [
         "CFLD_RISKR",
         "",
         "",
         "",
         "",
         "text",
         "text",
         ""
        ]
       ],
       "shape": {
        "columns": 7,
        "rows": 507
       }
      },
      "text/html": [
       "<div>\n",
       "<style scoped>\n",
       "    .dataframe tbody tr th:only-of-type {\n",
       "        vertical-align: middle;\n",
       "    }\n",
       "\n",
       "    .dataframe tbody tr th {\n",
       "        vertical-align: top;\n",
       "    }\n",
       "\n",
       "    .dataframe thead th {\n",
       "        text-align: right;\n",
       "    }\n",
       "</style>\n",
       "<table border=\"1\" class=\"dataframe\">\n",
       "  <thead>\n",
       "    <tr style=\"text-align: right;\">\n",
       "      <th>table_name</th>\n",
       "      <th>NOAA_STORM_EVENTS</th>\n",
       "      <th>census_resilience</th>\n",
       "      <th>geography_columns</th>\n",
       "      <th>geometry_columns</th>\n",
       "      <th>nri_shape_census_tracts</th>\n",
       "      <th>nri_shape_counties</th>\n",
       "      <th>spatial_ref_sys</th>\n",
       "    </tr>\n",
       "    <tr>\n",
       "      <th>column_name</th>\n",
       "      <th></th>\n",
       "      <th></th>\n",
       "      <th></th>\n",
       "      <th></th>\n",
       "      <th></th>\n",
       "      <th></th>\n",
       "      <th></th>\n",
       "    </tr>\n",
       "  </thead>\n",
       "  <tbody>\n",
       "    <tr>\n",
       "      <th>AGRIVALUE</th>\n",
       "      <td></td>\n",
       "      <td></td>\n",
       "      <td></td>\n",
       "      <td></td>\n",
       "      <td>double precision</td>\n",
       "      <td>double precision</td>\n",
       "      <td></td>\n",
       "    </tr>\n",
       "    <tr>\n",
       "      <th>ALR_NPCTL</th>\n",
       "      <td></td>\n",
       "      <td></td>\n",
       "      <td></td>\n",
       "      <td></td>\n",
       "      <td>double precision</td>\n",
       "      <td>double precision</td>\n",
       "      <td></td>\n",
       "    </tr>\n",
       "    <tr>\n",
       "      <th>ALR_VALA</th>\n",
       "      <td></td>\n",
       "      <td></td>\n",
       "      <td></td>\n",
       "      <td></td>\n",
       "      <td>double precision</td>\n",
       "      <td>double precision</td>\n",
       "      <td></td>\n",
       "    </tr>\n",
       "    <tr>\n",
       "      <th>ALR_VALB</th>\n",
       "      <td></td>\n",
       "      <td></td>\n",
       "      <td></td>\n",
       "      <td></td>\n",
       "      <td>double precision</td>\n",
       "      <td>double precision</td>\n",
       "      <td></td>\n",
       "    </tr>\n",
       "    <tr>\n",
       "      <th>ALR_VALP</th>\n",
       "      <td></td>\n",
       "      <td></td>\n",
       "      <td></td>\n",
       "      <td></td>\n",
       "      <td>double precision</td>\n",
       "      <td>double precision</td>\n",
       "      <td></td>\n",
       "    </tr>\n",
       "    <tr>\n",
       "      <th>...</th>\n",
       "      <td>...</td>\n",
       "      <td>...</td>\n",
       "      <td>...</td>\n",
       "      <td>...</td>\n",
       "      <td>...</td>\n",
       "      <td>...</td>\n",
       "      <td>...</td>\n",
       "    </tr>\n",
       "    <tr>\n",
       "      <th>geometry</th>\n",
       "      <td></td>\n",
       "      <td></td>\n",
       "      <td></td>\n",
       "      <td></td>\n",
       "      <td>USER-DEFINED</td>\n",
       "      <td>USER-DEFINED</td>\n",
       "      <td></td>\n",
       "    </tr>\n",
       "    <tr>\n",
       "      <th>proj4text</th>\n",
       "      <td></td>\n",
       "      <td></td>\n",
       "      <td></td>\n",
       "      <td></td>\n",
       "      <td></td>\n",
       "      <td></td>\n",
       "      <td>character varying</td>\n",
       "    </tr>\n",
       "    <tr>\n",
       "      <th>srid</th>\n",
       "      <td></td>\n",
       "      <td></td>\n",
       "      <td>integer</td>\n",
       "      <td>integer</td>\n",
       "      <td></td>\n",
       "      <td></td>\n",
       "      <td>integer</td>\n",
       "    </tr>\n",
       "    <tr>\n",
       "      <th>srtext</th>\n",
       "      <td></td>\n",
       "      <td></td>\n",
       "      <td></td>\n",
       "      <td></td>\n",
       "      <td></td>\n",
       "      <td></td>\n",
       "      <td>character varying</td>\n",
       "    </tr>\n",
       "    <tr>\n",
       "      <th>type</th>\n",
       "      <td></td>\n",
       "      <td></td>\n",
       "      <td>text</td>\n",
       "      <td>character varying</td>\n",
       "      <td></td>\n",
       "      <td></td>\n",
       "      <td></td>\n",
       "    </tr>\n",
       "  </tbody>\n",
       "</table>\n",
       "<p>507 rows × 7 columns</p>\n",
       "</div>"
      ],
      "text/plain": [
       "table_name  NOAA_STORM_EVENTS census_resilience geography_columns  \\\n",
       "column_name                                                         \n",
       "AGRIVALUE                                                           \n",
       "ALR_NPCTL                                                           \n",
       "ALR_VALA                                                            \n",
       "ALR_VALB                                                            \n",
       "ALR_VALP                                                            \n",
       "...                       ...               ...               ...   \n",
       "geometry                                                            \n",
       "proj4text                                                           \n",
       "srid                                                      integer   \n",
       "srtext                                                              \n",
       "type                                                         text   \n",
       "\n",
       "table_name    geometry_columns nri_shape_census_tracts nri_shape_counties  \\\n",
       "column_name                                                                 \n",
       "AGRIVALUE                             double precision   double precision   \n",
       "ALR_NPCTL                             double precision   double precision   \n",
       "ALR_VALA                              double precision   double precision   \n",
       "ALR_VALB                              double precision   double precision   \n",
       "ALR_VALP                              double precision   double precision   \n",
       "...                        ...                     ...                ...   \n",
       "geometry                                  USER-DEFINED       USER-DEFINED   \n",
       "proj4text                                                                   \n",
       "srid                   integer                                              \n",
       "srtext                                                                      \n",
       "type         character varying                                              \n",
       "\n",
       "table_name     spatial_ref_sys  \n",
       "column_name                     \n",
       "AGRIVALUE                       \n",
       "ALR_NPCTL                       \n",
       "ALR_VALA                        \n",
       "ALR_VALB                        \n",
       "ALR_VALP                        \n",
       "...                        ...  \n",
       "geometry                        \n",
       "proj4text    character varying  \n",
       "srid                   integer  \n",
       "srtext       character varying  \n",
       "type                            \n",
       "\n",
       "[507 rows x 7 columns]"
      ]
     },
     "metadata": {},
     "output_type": "display_data"
    }
   ],
   "source": [
    "# Create a pivot-like view\n",
    "pivot_schema = schema_info.pivot_table(\n",
    "    values='data_type', \n",
    "    index='column_name', \n",
    "    columns='table_name', \n",
    "    aggfunc='first', \n",
    "    fill_value=''\n",
    ")\n",
    "\n",
    "# Display as interactive table\n",
    "display(pivot_schema)"
   ]
  },
  {
   "cell_type": "code",
   "execution_count": null,
   "id": "0da64d7d",
   "metadata": {},
   "outputs": [],
   "source": []
  }
 ],
 "metadata": {
  "kernelspec": {
   "display_name": "Python 3",
   "language": "python",
   "name": "python3"
  },
  "language_info": {
   "codemirror_mode": {
    "name": "ipython",
    "version": 3
   },
   "file_extension": ".py",
   "mimetype": "text/x-python",
   "name": "python",
   "nbconvert_exporter": "python",
   "pygments_lexer": "ipython3",
   "version": "3.13.1"
  }
 },
 "nbformat": 4,
 "nbformat_minor": 5
}
